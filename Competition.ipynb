{
 "cells": [
  {
   "cell_type": "code",
   "execution_count": 1141,
   "id": "274fe8c1",
   "metadata": {},
   "outputs": [],
   "source": [
    "# importing the dataset\n",
    "import pandas as pd\n",
    "import numpy as np\n",
    "from sklearn import preprocessing"
   ]
  },
  {
   "cell_type": "code",
   "execution_count": 1142,
   "id": "f5a68466",
   "metadata": {},
   "outputs": [],
   "source": [
    "df = pd.read_excel('Members Data Final.xlsx') "
   ]
  },
  {
   "cell_type": "code",
   "execution_count": 1143,
   "id": "8c0a9fb6",
   "metadata": {},
   "outputs": [
    {
     "data": {
      "text/plain": [
       "Index(['S/N', 'Member ID', 'Group ID', 'Church ID', 'PCF ID', 'Cell ID',\n",
       "       'Department ID', 'First Name', 'Middle Name', 'Last Name', 'Gender',\n",
       "       'Mobile 1', 'Mobile 2', 'Email', 'Profession', 'Address', 'Location',\n",
       "       'Entry Date', 'Weather Condition', 'Service Date', 'Service Day',\n",
       "       'Service Type', 'Service Time', 'Public Holiday', 'SMS Notification',\n",
       "       'Email Notification', 'SMS Reminder', 'Email Reminder',\n",
       "       'Free Transportation', 'External Speaker', 'Church Venue',\n",
       "       'Outreach Program', 'Celebration', 'Love Feast', 'Attendance'],\n",
       "      dtype='object')"
      ]
     },
     "execution_count": 1143,
     "metadata": {},
     "output_type": "execute_result"
    }
   ],
   "source": [
    "df.columns"
   ]
  },
  {
   "cell_type": "code",
   "execution_count": 1144,
   "id": "d2838902",
   "metadata": {},
   "outputs": [],
   "source": [
    "df.dropna(axis=0,how='any',inplace=True )"
   ]
  },
  {
   "cell_type": "code",
   "execution_count": 1145,
   "id": "0c643aaf",
   "metadata": {},
   "outputs": [
    {
     "data": {
      "text/plain": [
       "S/N                    0\n",
       "Member ID              0\n",
       "Group ID               0\n",
       "Church ID              0\n",
       "PCF ID                 0\n",
       "Cell ID                0\n",
       "Department ID          0\n",
       "First Name             0\n",
       "Middle Name            0\n",
       "Last Name              0\n",
       "Gender                 0\n",
       "Mobile 1               0\n",
       "Mobile 2               0\n",
       "Email                  0\n",
       "Profession             0\n",
       "Address                0\n",
       "Location               0\n",
       "Entry Date             0\n",
       "Weather Condition      0\n",
       "Service Date           0\n",
       "Service Day            0\n",
       "Service Type           0\n",
       "Service Time           0\n",
       "Public Holiday         0\n",
       "SMS Notification       0\n",
       "Email Notification     0\n",
       "SMS Reminder           0\n",
       "Email Reminder         0\n",
       "Free Transportation    0\n",
       "External Speaker       0\n",
       "Church Venue           0\n",
       "Outreach Program       0\n",
       "Celebration            0\n",
       "Love Feast             0\n",
       "Attendance             0\n",
       "dtype: int64"
      ]
     },
     "execution_count": 1145,
     "metadata": {},
     "output_type": "execute_result"
    }
   ],
   "source": [
    "df.isnull().sum()"
   ]
  },
  {
   "cell_type": "code",
   "execution_count": 1146,
   "id": "3d628468",
   "metadata": {},
   "outputs": [
    {
     "data": {
      "text/html": [
       "<div>\n",
       "<style scoped>\n",
       "    .dataframe tbody tr th:only-of-type {\n",
       "        vertical-align: middle;\n",
       "    }\n",
       "\n",
       "    .dataframe tbody tr th {\n",
       "        vertical-align: top;\n",
       "    }\n",
       "\n",
       "    .dataframe thead th {\n",
       "        text-align: right;\n",
       "    }\n",
       "</style>\n",
       "<table border=\"1\" class=\"dataframe\">\n",
       "  <thead>\n",
       "    <tr style=\"text-align: right;\">\n",
       "      <th></th>\n",
       "      <th>S/N</th>\n",
       "      <th>Member ID</th>\n",
       "      <th>Group ID</th>\n",
       "      <th>Church ID</th>\n",
       "      <th>PCF ID</th>\n",
       "      <th>Cell ID</th>\n",
       "      <th>Department ID</th>\n",
       "      <th>First Name</th>\n",
       "      <th>Middle Name</th>\n",
       "      <th>Last Name</th>\n",
       "      <th>...</th>\n",
       "      <th>Email Notification</th>\n",
       "      <th>SMS Reminder</th>\n",
       "      <th>Email Reminder</th>\n",
       "      <th>Free Transportation</th>\n",
       "      <th>External Speaker</th>\n",
       "      <th>Church Venue</th>\n",
       "      <th>Outreach Program</th>\n",
       "      <th>Celebration</th>\n",
       "      <th>Love Feast</th>\n",
       "      <th>Attendance</th>\n",
       "    </tr>\n",
       "  </thead>\n",
       "  <tbody>\n",
       "    <tr>\n",
       "      <th>0</th>\n",
       "      <td>1.0</td>\n",
       "      <td>M001</td>\n",
       "      <td>G001</td>\n",
       "      <td>CH001</td>\n",
       "      <td>PCF001</td>\n",
       "      <td>C001</td>\n",
       "      <td>D001</td>\n",
       "      <td>Omolara</td>\n",
       "      <td>Sandra</td>\n",
       "      <td>Adeniyi</td>\n",
       "      <td>...</td>\n",
       "      <td>0</td>\n",
       "      <td>0</td>\n",
       "      <td>0</td>\n",
       "      <td>0</td>\n",
       "      <td>0</td>\n",
       "      <td>0</td>\n",
       "      <td>0</td>\n",
       "      <td>0</td>\n",
       "      <td>0</td>\n",
       "      <td>0</td>\n",
       "    </tr>\n",
       "    <tr>\n",
       "      <th>1</th>\n",
       "      <td>2.0</td>\n",
       "      <td>M002</td>\n",
       "      <td>G002</td>\n",
       "      <td>CH002</td>\n",
       "      <td>PCF002</td>\n",
       "      <td>C002</td>\n",
       "      <td>D002</td>\n",
       "      <td>Olaide</td>\n",
       "      <td>Oluwanisola</td>\n",
       "      <td>Agbaje</td>\n",
       "      <td>...</td>\n",
       "      <td>0</td>\n",
       "      <td>0</td>\n",
       "      <td>0</td>\n",
       "      <td>0</td>\n",
       "      <td>0</td>\n",
       "      <td>0</td>\n",
       "      <td>0</td>\n",
       "      <td>0</td>\n",
       "      <td>0</td>\n",
       "      <td>1</td>\n",
       "    </tr>\n",
       "    <tr>\n",
       "      <th>2</th>\n",
       "      <td>3.0</td>\n",
       "      <td>M003</td>\n",
       "      <td>G003</td>\n",
       "      <td>CH003</td>\n",
       "      <td>PCF003</td>\n",
       "      <td>C003</td>\n",
       "      <td>D003</td>\n",
       "      <td>Funmilayo</td>\n",
       "      <td>Makuachukwu</td>\n",
       "      <td>Onu</td>\n",
       "      <td>...</td>\n",
       "      <td>0</td>\n",
       "      <td>0</td>\n",
       "      <td>0</td>\n",
       "      <td>0</td>\n",
       "      <td>0</td>\n",
       "      <td>0</td>\n",
       "      <td>0</td>\n",
       "      <td>0</td>\n",
       "      <td>0</td>\n",
       "      <td>0</td>\n",
       "    </tr>\n",
       "    <tr>\n",
       "      <th>3</th>\n",
       "      <td>4.0</td>\n",
       "      <td>M004</td>\n",
       "      <td>G004</td>\n",
       "      <td>CH004</td>\n",
       "      <td>PCF004</td>\n",
       "      <td>C004</td>\n",
       "      <td>D004</td>\n",
       "      <td>Makinwa</td>\n",
       "      <td>Hope</td>\n",
       "      <td>Okonkwo</td>\n",
       "      <td>...</td>\n",
       "      <td>0</td>\n",
       "      <td>0</td>\n",
       "      <td>0</td>\n",
       "      <td>0</td>\n",
       "      <td>0</td>\n",
       "      <td>0</td>\n",
       "      <td>0</td>\n",
       "      <td>0</td>\n",
       "      <td>0</td>\n",
       "      <td>1</td>\n",
       "    </tr>\n",
       "    <tr>\n",
       "      <th>4</th>\n",
       "      <td>5.0</td>\n",
       "      <td>M005</td>\n",
       "      <td>G005</td>\n",
       "      <td>CH005</td>\n",
       "      <td>PCF005</td>\n",
       "      <td>C005</td>\n",
       "      <td>D005</td>\n",
       "      <td>Onome</td>\n",
       "      <td>Olaoluwa</td>\n",
       "      <td>Bode</td>\n",
       "      <td>...</td>\n",
       "      <td>0</td>\n",
       "      <td>0</td>\n",
       "      <td>0</td>\n",
       "      <td>0</td>\n",
       "      <td>0</td>\n",
       "      <td>0</td>\n",
       "      <td>0</td>\n",
       "      <td>0</td>\n",
       "      <td>0</td>\n",
       "      <td>1</td>\n",
       "    </tr>\n",
       "  </tbody>\n",
       "</table>\n",
       "<p>5 rows × 35 columns</p>\n",
       "</div>"
      ],
      "text/plain": [
       "   S/N Member ID Group ID Church ID  PCF ID Cell ID Department ID First Name  \\\n",
       "0  1.0      M001     G001     CH001  PCF001    C001          D001    Omolara   \n",
       "1  2.0      M002     G002     CH002  PCF002    C002          D002     Olaide   \n",
       "2  3.0      M003     G003     CH003  PCF003    C003          D003  Funmilayo   \n",
       "3  4.0      M004     G004     CH004  PCF004    C004          D004    Makinwa   \n",
       "4  5.0      M005     G005     CH005  PCF005    C005          D005      Onome   \n",
       "\n",
       "   Middle Name Last Name  ... Email Notification  SMS Reminder  \\\n",
       "0       Sandra   Adeniyi  ...                  0             0   \n",
       "1  Oluwanisola    Agbaje  ...                  0             0   \n",
       "2  Makuachukwu       Onu  ...                  0             0   \n",
       "3         Hope   Okonkwo  ...                  0             0   \n",
       "4     Olaoluwa      Bode  ...                  0             0   \n",
       "\n",
       "   Email Reminder Free Transportation External Speaker Church Venue  \\\n",
       "0               0                   0                0            0   \n",
       "1               0                   0                0            0   \n",
       "2               0                   0                0            0   \n",
       "3               0                   0                0            0   \n",
       "4               0                   0                0            0   \n",
       "\n",
       "  Outreach Program Celebration  Love Feast Attendance  \n",
       "0                0           0           0          0  \n",
       "1                0           0           0          1  \n",
       "2                0           0           0          0  \n",
       "3                0           0           0          1  \n",
       "4                0           0           0          1  \n",
       "\n",
       "[5 rows x 35 columns]"
      ]
     },
     "execution_count": 1146,
     "metadata": {},
     "output_type": "execute_result"
    }
   ],
   "source": [
    "df[['Weather Condition', 'Service Day',\n",
    "       'Service Time', 'Public Holiday', 'SMS Notification',\n",
    "       'Email Notification', 'SMS Reminder', 'Email Reminder',\n",
    "       'Free Transportation', 'External Speaker', 'Church Venue',\n",
    "       'Outreach Program', 'Celebration', 'Love Feast']] = df[['Weather Condition', 'Service Day','Service Time', 'Public Holiday', 'SMS Notification',\n",
    "       'Email Notification', 'SMS Reminder', 'Email Reminder',\n",
    "       'Free Transportation', 'External Speaker', 'Church Venue',\n",
    "       'Outreach Program', 'Celebration', 'Love Feast']].astype(int)\n",
    "df.head()"
   ]
  },
  {
   "cell_type": "code",
   "execution_count": 1147,
   "id": "e1a6ceec",
   "metadata": {},
   "outputs": [
    {
     "name": "stdout",
     "output_type": "stream",
     "text": [
      "<class 'pandas.core.frame.DataFrame'>\n",
      "Int64Index: 1060 entries, 0 to 1059\n",
      "Data columns (total 35 columns):\n",
      " #   Column               Non-Null Count  Dtype         \n",
      "---  ------               --------------  -----         \n",
      " 0   S/N                  1060 non-null   float64       \n",
      " 1   Member ID            1060 non-null   object        \n",
      " 2   Group ID             1060 non-null   object        \n",
      " 3   Church ID            1060 non-null   object        \n",
      " 4   PCF ID               1060 non-null   object        \n",
      " 5   Cell ID              1060 non-null   object        \n",
      " 6   Department ID        1060 non-null   object        \n",
      " 7   First Name           1060 non-null   object        \n",
      " 8   Middle Name          1060 non-null   object        \n",
      " 9   Last Name            1060 non-null   object        \n",
      " 10  Gender               1060 non-null   object        \n",
      " 11  Mobile 1             1060 non-null   float64       \n",
      " 12  Mobile 2             1060 non-null   float64       \n",
      " 13  Email                1060 non-null   object        \n",
      " 14  Profession           1060 non-null   object        \n",
      " 15  Address              1060 non-null   object        \n",
      " 16  Location             1060 non-null   object        \n",
      " 17  Entry Date           1060 non-null   datetime64[ns]\n",
      " 18  Weather Condition    1060 non-null   int32         \n",
      " 19  Service Date         1060 non-null   datetime64[ns]\n",
      " 20  Service Day          1060 non-null   int32         \n",
      " 21  Service Type         1060 non-null   float64       \n",
      " 22  Service Time         1060 non-null   int32         \n",
      " 23  Public Holiday       1060 non-null   int32         \n",
      " 24  SMS Notification     1060 non-null   int32         \n",
      " 25  Email Notification   1060 non-null   int32         \n",
      " 26  SMS Reminder         1060 non-null   int32         \n",
      " 27  Email Reminder       1060 non-null   int32         \n",
      " 28  Free Transportation  1060 non-null   int32         \n",
      " 29  External Speaker     1060 non-null   int32         \n",
      " 30  Church Venue         1060 non-null   int32         \n",
      " 31  Outreach Program     1060 non-null   int32         \n",
      " 32  Celebration          1060 non-null   int32         \n",
      " 33  Love Feast           1060 non-null   int32         \n",
      " 34  Attendance           1060 non-null   int64         \n",
      "dtypes: datetime64[ns](2), float64(4), int32(14), int64(1), object(14)\n",
      "memory usage: 240.2+ KB\n"
     ]
    }
   ],
   "source": [
    "df.info()"
   ]
  },
  {
   "cell_type": "code",
   "execution_count": 1148,
   "id": "e99e1bbe",
   "metadata": {},
   "outputs": [
    {
     "data": {
      "text/plain": [
       "(1060, 35)"
      ]
     },
     "execution_count": 1148,
     "metadata": {},
     "output_type": "execute_result"
    }
   ],
   "source": [
    "df.shape"
   ]
  },
  {
   "cell_type": "code",
   "execution_count": 1149,
   "id": "104dc440",
   "metadata": {},
   "outputs": [
    {
     "data": {
      "text/plain": [
       "Male      530\n",
       "Female    530\n",
       "Name: Gender, dtype: int64"
      ]
     },
     "execution_count": 1149,
     "metadata": {},
     "output_type": "execute_result"
    }
   ],
   "source": [
    "df['Gender'].value_counts()"
   ]
  },
  {
   "cell_type": "code",
   "execution_count": 1150,
   "id": "3843a320",
   "metadata": {},
   "outputs": [
    {
     "data": {
      "text/plain": [
       "7    280\n",
       "1    260\n",
       "2    260\n",
       "4    260\n",
       "Name: Service Day, dtype: int64"
      ]
     },
     "execution_count": 1150,
     "metadata": {},
     "output_type": "execute_result"
    }
   ],
   "source": [
    "df['Service Day'].value_counts()"
   ]
  },
  {
   "cell_type": "code",
   "execution_count": 1151,
   "id": "fb7d24c6",
   "metadata": {},
   "outputs": [
    {
     "data": {
      "text/plain": [
       "1    520\n",
       "3    500\n",
       "2     40\n",
       "Name: Service Time, dtype: int64"
      ]
     },
     "execution_count": 1151,
     "metadata": {},
     "output_type": "execute_result"
    }
   ],
   "source": [
    "df['Service Time'].value_counts()"
   ]
  },
  {
   "cell_type": "code",
   "execution_count": 1152,
   "id": "ed67e55f",
   "metadata": {},
   "outputs": [
    {
     "data": {
      "text/plain": [
       "0    540\n",
       "1    520\n",
       "Name: Email Reminder, dtype: int64"
      ]
     },
     "execution_count": 1152,
     "metadata": {},
     "output_type": "execute_result"
    }
   ],
   "source": [
    "df['Email Reminder'].value_counts()"
   ]
  },
  {
   "cell_type": "code",
   "execution_count": 1153,
   "id": "9d05d58c",
   "metadata": {},
   "outputs": [
    {
     "data": {
      "text/plain": [
       "0    540\n",
       "1    520\n",
       "Name: SMS Notification, dtype: int64"
      ]
     },
     "execution_count": 1153,
     "metadata": {},
     "output_type": "execute_result"
    }
   ],
   "source": [
    "df['SMS Notification'].value_counts()"
   ]
  },
  {
   "cell_type": "code",
   "execution_count": 1154,
   "id": "831d445a",
   "metadata": {},
   "outputs": [
    {
     "data": {
      "text/plain": [
       "0    540\n",
       "1    520\n",
       "Name: Email Notification, dtype: int64"
      ]
     },
     "execution_count": 1154,
     "metadata": {},
     "output_type": "execute_result"
    }
   ],
   "source": [
    "df['Email Notification'].value_counts()"
   ]
  },
  {
   "cell_type": "code",
   "execution_count": 1155,
   "id": "3b49f784",
   "metadata": {},
   "outputs": [
    {
     "data": {
      "text/plain": [
       "0    540\n",
       "1    520\n",
       "Name: SMS Reminder, dtype: int64"
      ]
     },
     "execution_count": 1155,
     "metadata": {},
     "output_type": "execute_result"
    }
   ],
   "source": [
    "df['SMS Reminder'].value_counts()"
   ]
  },
  {
   "cell_type": "code",
   "execution_count": 1156,
   "id": "d1c388b8",
   "metadata": {},
   "outputs": [
    {
     "data": {
      "text/plain": [
       "0    540\n",
       "1    520\n",
       "Name: Free Transportation, dtype: int64"
      ]
     },
     "execution_count": 1156,
     "metadata": {},
     "output_type": "execute_result"
    }
   ],
   "source": [
    "df['Free Transportation'].value_counts()"
   ]
  },
  {
   "cell_type": "code",
   "execution_count": 1157,
   "id": "a681226c",
   "metadata": {},
   "outputs": [
    {
     "data": {
      "text/plain": [
       "0    540\n",
       "1    520\n",
       "Name: External Speaker, dtype: int64"
      ]
     },
     "execution_count": 1157,
     "metadata": {},
     "output_type": "execute_result"
    }
   ],
   "source": [
    "df['External Speaker'].value_counts()"
   ]
  },
  {
   "cell_type": "code",
   "execution_count": 1158,
   "id": "7d1a3839",
   "metadata": {},
   "outputs": [
    {
     "data": {
      "text/plain": [
       "0    540\n",
       "1    520\n",
       "Name: Church Venue, dtype: int64"
      ]
     },
     "execution_count": 1158,
     "metadata": {},
     "output_type": "execute_result"
    }
   ],
   "source": [
    "df['Church Venue'].value_counts()"
   ]
  },
  {
   "cell_type": "code",
   "execution_count": 1159,
   "id": "df8c0d18",
   "metadata": {},
   "outputs": [
    {
     "data": {
      "text/plain": [
       "0    540\n",
       "1    520\n",
       "Name: Outreach Program, dtype: int64"
      ]
     },
     "execution_count": 1159,
     "metadata": {},
     "output_type": "execute_result"
    }
   ],
   "source": [
    "df['Outreach Program'].value_counts()"
   ]
  },
  {
   "cell_type": "code",
   "execution_count": 1160,
   "id": "089db113",
   "metadata": {},
   "outputs": [
    {
     "data": {
      "text/plain": [
       "0    540\n",
       "1    520\n",
       "Name: Celebration, dtype: int64"
      ]
     },
     "execution_count": 1160,
     "metadata": {},
     "output_type": "execute_result"
    }
   ],
   "source": [
    "df['Celebration'].value_counts()"
   ]
  },
  {
   "cell_type": "code",
   "execution_count": 1161,
   "id": "64ee0af9",
   "metadata": {},
   "outputs": [
    {
     "data": {
      "text/plain": [
       "0    540\n",
       "1    520\n",
       "Name: Love Feast, dtype: int64"
      ]
     },
     "execution_count": 1161,
     "metadata": {},
     "output_type": "execute_result"
    }
   ],
   "source": [
    "df['Love Feast'].value_counts()"
   ]
  },
  {
   "cell_type": "code",
   "execution_count": 1162,
   "id": "44e8ac00",
   "metadata": {},
   "outputs": [
    {
     "data": {
      "text/plain": [
       "2    580\n",
       "1    480\n",
       "Name: Weather Condition, dtype: int64"
      ]
     },
     "execution_count": 1162,
     "metadata": {},
     "output_type": "execute_result"
    }
   ],
   "source": [
    "df['Weather Condition'].value_counts()"
   ]
  },
  {
   "cell_type": "code",
   "execution_count": 1163,
   "id": "56397b6b",
   "metadata": {},
   "outputs": [
    {
     "data": {
      "text/plain": [
       "0    530\n",
       "1    530\n",
       "Name: Attendance, dtype: int64"
      ]
     },
     "execution_count": 1163,
     "metadata": {},
     "output_type": "execute_result"
    }
   ],
   "source": [
    "df['Attendance'].value_counts()"
   ]
  },
  {
   "cell_type": "code",
   "execution_count": 1164,
   "id": "e6e28d6e",
   "metadata": {},
   "outputs": [
    {
     "data": {
      "text/plain": [
       "Index(['S/N', 'Member ID', 'Group ID', 'Church ID', 'PCF ID', 'Cell ID',\n",
       "       'Department ID', 'First Name', 'Middle Name', 'Last Name', 'Gender',\n",
       "       'Mobile 1', 'Mobile 2', 'Email', 'Profession', 'Address', 'Location',\n",
       "       'Entry Date', 'Weather Condition', 'Service Date', 'Service Day',\n",
       "       'Service Type', 'Service Time', 'Public Holiday', 'SMS Notification',\n",
       "       'Email Notification', 'SMS Reminder', 'Email Reminder',\n",
       "       'Free Transportation', 'External Speaker', 'Church Venue',\n",
       "       'Outreach Program', 'Celebration', 'Love Feast', 'Attendance'],\n",
       "      dtype='object')"
      ]
     },
     "execution_count": 1164,
     "metadata": {},
     "output_type": "execute_result"
    }
   ],
   "source": [
    "df.columns"
   ]
  },
  {
   "cell_type": "code",
   "execution_count": 1165,
   "id": "a618a8af",
   "metadata": {},
   "outputs": [
    {
     "name": "stdout",
     "output_type": "stream",
     "text": [
      "{'Gender': {'Female': 0, 'Male': 1}}\n"
     ]
    }
   ],
   "source": [
    "category_col =['Gender'] \n",
    "labelEncoder = preprocessing.LabelEncoder()\n",
    "  \n",
    "mapping_dict ={}\n",
    "for col in category_col:\n",
    "    df[col] = labelEncoder.fit_transform(df[col])\n",
    "  \n",
    "    le_name_mapping = dict(zip(labelEncoder.classes_,\n",
    "                        labelEncoder.transform(labelEncoder.classes_)))\n",
    "  \n",
    "    mapping_dict[col]= le_name_mapping\n",
    "print(mapping_dict)"
   ]
  },
  {
   "cell_type": "code",
   "execution_count": 1166,
   "id": "fe1f0142",
   "metadata": {},
   "outputs": [
    {
     "data": {
      "text/plain": [
       "(1060, 35)"
      ]
     },
     "execution_count": 1166,
     "metadata": {},
     "output_type": "execute_result"
    }
   ],
   "source": [
    "df.shape"
   ]
  },
  {
   "cell_type": "code",
   "execution_count": 1167,
   "id": "02bc32e9",
   "metadata": {},
   "outputs": [
    {
     "data": {
      "text/plain": [
       "0       0\n",
       "1       1\n",
       "2       0\n",
       "3       0\n",
       "4       0\n",
       "       ..\n",
       "1055    1\n",
       "1056    1\n",
       "1057    1\n",
       "1058    1\n",
       "1059    1\n",
       "Name: Gender, Length: 1060, dtype: int32"
      ]
     },
     "execution_count": 1167,
     "metadata": {},
     "output_type": "execute_result"
    }
   ],
   "source": [
    "df[\"Gender\"]"
   ]
  },
  {
   "cell_type": "code",
   "execution_count": 1168,
   "id": "1dd1e44a",
   "metadata": {},
   "outputs": [],
   "source": [
    "from sklearn.model_selection import train_test_split\n",
    "from sklearn.linear_model import LogisticRegression\n",
    "from sklearn.metrics import accuracy_score, confusion_matrix, roc_curve, roc_auc_score\n",
    "import matplotlib.pyplot as plt\n",
    "import seaborn as sns\n",
    "import pickle"
   ]
  },
  {
   "cell_type": "code",
   "execution_count": 1169,
   "id": "66d85b15",
   "metadata": {},
   "outputs": [
    {
     "data": {
      "text/plain": [
       "Index(['S/N', 'Member ID', 'Group ID', 'Church ID', 'PCF ID', 'Cell ID',\n",
       "       'Department ID', 'First Name', 'Middle Name', 'Last Name', 'Gender',\n",
       "       'Mobile 1', 'Mobile 2', 'Email', 'Profession', 'Address', 'Location',\n",
       "       'Entry Date', 'Weather Condition', 'Service Date', 'Service Day',\n",
       "       'Service Type', 'Service Time', 'Public Holiday', 'SMS Notification',\n",
       "       'Email Notification', 'SMS Reminder', 'Email Reminder',\n",
       "       'Free Transportation', 'External Speaker', 'Church Venue',\n",
       "       'Outreach Program', 'Celebration', 'Love Feast'],\n",
       "      dtype='object')"
      ]
     },
     "execution_count": 1169,
     "metadata": {},
     "output_type": "execute_result"
    }
   ],
   "source": [
    "X = df[['S/N', 'Member ID', 'Group ID', 'Church ID', 'PCF ID', 'Cell ID',\n",
    "       'Department ID', 'First Name', 'Middle Name', 'Last Name', 'Gender',\n",
    "       'Mobile 1', 'Mobile 2', 'Email', 'Profession', 'Address', 'Location',\n",
    "       'Entry Date', 'Weather Condition', 'Service Date', 'Service Day',\n",
    "       'Service Type', 'Service Time', 'Public Holiday', 'SMS Notification',\n",
    "       'Email Notification', 'SMS Reminder', 'Email Reminder',\n",
    "       'Free Transportation', 'External Speaker', 'Church Venue',\n",
    "       'Outreach Program', 'Celebration', 'Love Feast']]\n",
    "y = df[\"Attendance\"]\n",
    "\n",
    "X.columns"
   ]
  },
  {
   "cell_type": "code",
   "execution_count": 1170,
   "id": "4d625f11",
   "metadata": {},
   "outputs": [],
   "source": [
    "X_train, X_test, y_train, y_test = train_test_split(\n",
    "           X, y, test_size = 0.3, random_state = 100)\n",
    "\n",
    "  \n",
    "X_train_data = X_train.drop(['S/N', 'Member ID', 'Group ID', 'Church ID', 'PCF ID', 'Cell ID',\n",
    "       'Department ID', 'First Name', 'Middle Name', 'Last Name',\n",
    "       'Mobile 1', 'Mobile 2', 'Email', 'Profession', 'Address', 'Location',\n",
    "       'Entry Date','Service Type','Service Date'], axis=1)\n",
    "\n",
    "X_test_data = X_test.drop(['S/N', 'Member ID', 'Group ID', 'Church ID', 'PCF ID', 'Cell ID',\n",
    "       'Department ID', 'First Name', 'Middle Name', 'Last Name',\n",
    "       'Mobile 1', 'Mobile 2', 'Email', 'Profession', 'Address', 'Location',\n",
    "       'Entry Date','Service Type','Service Date'], axis=1)"
   ]
  },
  {
   "cell_type": "code",
   "execution_count": 1171,
   "id": "44a7a53c",
   "metadata": {},
   "outputs": [],
   "source": [
    "model = LogisticRegression()\n",
    "\n",
    "model.fit(X_train_data, y_train)\n",
    "y_pred = model.predict(X_test_data)"
   ]
  },
  {
   "cell_type": "markdown",
   "id": "1652195e",
   "metadata": {},
   "source": [
    "y_pred = model.predict(X_test_data)"
   ]
  },
  {
   "cell_type": "markdown",
   "id": "47e7ba2e",
   "metadata": {},
   "source": [
    "X_test.columns"
   ]
  },
  {
   "cell_type": "markdown",
   "id": "8594c20d",
   "metadata": {},
   "source": [
    "pred_cols = pd.DataFrame({\n",
    "        \"Member ID\": X_test[\"Member ID\"],\n",
    "        \"Group ID\": X_test[\"Group ID\"],\n",
    "        \"Church ID\": X_test[\"Church ID\"],\n",
    "        \"PCF ID\": X_test[\"PCF ID\"],\n",
    "        \"Cell ID\": X_test[\"Cell ID\"],\n",
    "        \"Department ID\": X_test[\"Department ID\"],\n",
    "        \"First Name\": X_test[\"First Name\"],\n",
    "        \"Last Name\": X_test[\"Last Name\"],\n",
    "        \"Attendance\":y_test,\n",
    "        \"Attendance_Pred\": y_pred\n",
    "    })"
   ]
  },
  {
   "cell_type": "markdown",
   "id": "862ebd95",
   "metadata": {},
   "source": [
    "pred_cols"
   ]
  },
  {
   "cell_type": "markdown",
   "id": "05d641c4",
   "metadata": {},
   "source": [
    "cnf_matrix = confusion_matrix(y_test, y_pred)\n",
    "cnf_matrix"
   ]
  },
  {
   "cell_type": "markdown",
   "id": "b3c5ebd1",
   "metadata": {},
   "source": [
    "confusion_matrix_df = pd.crosstab(pred_cols['Attendance'], pred_cols['Attendance_Pred'], rownames=['Actual'], colnames=['Predicted'])\n",
    "\n",
    "sns.heatmap(confusion_matrix_df, annot=True)\n",
    "plt.show()"
   ]
  },
  {
   "cell_type": "markdown",
   "id": "946dae95",
   "metadata": {},
   "source": [
    "print(\"Accuracy:\",accuracy_score(y_test, y_pred))"
   ]
  },
  {
   "cell_type": "markdown",
   "id": "36c1d546",
   "metadata": {},
   "source": [
    "#define metrics\n",
    "y_pred_proba = lr.predict_proba(X_test_data)[:,1]\n",
    "fpr, tpr, _ = roc_curve(y_test,  y_pred_proba)\n",
    "auc = roc_auc_score(y_test, y_pred_proba)\n",
    "\n",
    "#create ROC curve\n",
    "plt.plot(fpr,tpr,label=\"AUC=\"+str(auc))\n",
    "plt.legend(loc=4)\n",
    "plt.show()"
   ]
  },
  {
   "cell_type": "code",
   "execution_count": 1172,
   "id": "575d887d",
   "metadata": {},
   "outputs": [],
   "source": [
    "pickle.dump(model, open('model.pkl','wb'))"
   ]
  },
  {
   "cell_type": "code",
   "execution_count": 1173,
   "id": "892bea80",
   "metadata": {},
   "outputs": [
    {
     "data": {
      "text/plain": [
       "Index(['Gender', 'Weather Condition', 'Service Day', 'Service Time',\n",
       "       'Public Holiday', 'SMS Notification', 'Email Notification',\n",
       "       'SMS Reminder', 'Email Reminder', 'Free Transportation',\n",
       "       'External Speaker', 'Church Venue', 'Outreach Program', 'Celebration',\n",
       "       'Love Feast'],\n",
       "      dtype='object')"
      ]
     },
     "execution_count": 1173,
     "metadata": {},
     "output_type": "execute_result"
    }
   ],
   "source": [
    "X_test_data.columns"
   ]
  },
  {
   "cell_type": "code",
   "execution_count": null,
   "id": "a1c95c2a",
   "metadata": {},
   "outputs": [],
   "source": []
  }
 ],
 "metadata": {
  "kernelspec": {
   "display_name": "Python 3",
   "language": "python",
   "name": "python3"
  },
  "language_info": {
   "codemirror_mode": {
    "name": "ipython",
    "version": 3
   },
   "file_extension": ".py",
   "mimetype": "text/x-python",
   "name": "python",
   "nbconvert_exporter": "python",
   "pygments_lexer": "ipython3",
   "version": "3.8.8"
  }
 },
 "nbformat": 4,
 "nbformat_minor": 5
}
