{
 "cells": [
  {
   "cell_type": "code",
   "execution_count": 503,
   "id": "274fe8c1",
   "metadata": {},
   "outputs": [],
   "source": [
    "# importing the dataset\n",
    "import pandas as pd\n",
    "import numpy as np\n",
    "from sklearn import preprocessing"
   ]
  },
  {
   "cell_type": "code",
   "execution_count": 504,
   "id": "f5a68466",
   "metadata": {},
   "outputs": [
    {
     "data": {
      "text/html": [
       "<div>\n",
       "<style scoped>\n",
       "    .dataframe tbody tr th:only-of-type {\n",
       "        vertical-align: middle;\n",
       "    }\n",
       "\n",
       "    .dataframe tbody tr th {\n",
       "        vertical-align: top;\n",
       "    }\n",
       "\n",
       "    .dataframe thead th {\n",
       "        text-align: right;\n",
       "    }\n",
       "</style>\n",
       "<table border=\"1\" class=\"dataframe\">\n",
       "  <thead>\n",
       "    <tr style=\"text-align: right;\">\n",
       "      <th></th>\n",
       "      <th>S/N</th>\n",
       "      <th>Member ID</th>\n",
       "      <th>Group ID</th>\n",
       "      <th>Church ID</th>\n",
       "      <th>PCF ID</th>\n",
       "      <th>Cell ID</th>\n",
       "      <th>Department ID</th>\n",
       "      <th>First Name</th>\n",
       "      <th>Middle Name</th>\n",
       "      <th>Last Name</th>\n",
       "      <th>...</th>\n",
       "      <th>Email Notification</th>\n",
       "      <th>SMS Reminder</th>\n",
       "      <th>Email Reminder</th>\n",
       "      <th>Free Transportation</th>\n",
       "      <th>External Speaker</th>\n",
       "      <th>Church Venue</th>\n",
       "      <th>Outreach Program</th>\n",
       "      <th>Celebration</th>\n",
       "      <th>Love Feast</th>\n",
       "      <th>Attendance</th>\n",
       "    </tr>\n",
       "  </thead>\n",
       "  <tbody>\n",
       "    <tr>\n",
       "      <th>0</th>\n",
       "      <td>1.0</td>\n",
       "      <td>M001</td>\n",
       "      <td>G001</td>\n",
       "      <td>CH001</td>\n",
       "      <td>PCF001</td>\n",
       "      <td>C001</td>\n",
       "      <td>D001</td>\n",
       "      <td>Omolara</td>\n",
       "      <td>Sandra</td>\n",
       "      <td>Adeniyi</td>\n",
       "      <td>...</td>\n",
       "      <td>0.0</td>\n",
       "      <td>0.0</td>\n",
       "      <td>0.0</td>\n",
       "      <td>0.0</td>\n",
       "      <td>0.0</td>\n",
       "      <td>0.0</td>\n",
       "      <td>0.0</td>\n",
       "      <td>0.0</td>\n",
       "      <td>0.0</td>\n",
       "      <td>0</td>\n",
       "    </tr>\n",
       "    <tr>\n",
       "      <th>1</th>\n",
       "      <td>2.0</td>\n",
       "      <td>M002</td>\n",
       "      <td>G002</td>\n",
       "      <td>CH002</td>\n",
       "      <td>PCF002</td>\n",
       "      <td>C002</td>\n",
       "      <td>D002</td>\n",
       "      <td>Olaide</td>\n",
       "      <td>Oluwanisola</td>\n",
       "      <td>Agbaje</td>\n",
       "      <td>...</td>\n",
       "      <td>0.0</td>\n",
       "      <td>0.0</td>\n",
       "      <td>0.0</td>\n",
       "      <td>0.0</td>\n",
       "      <td>0.0</td>\n",
       "      <td>0.0</td>\n",
       "      <td>0.0</td>\n",
       "      <td>0.0</td>\n",
       "      <td>0.0</td>\n",
       "      <td>0</td>\n",
       "    </tr>\n",
       "    <tr>\n",
       "      <th>2</th>\n",
       "      <td>3.0</td>\n",
       "      <td>M003</td>\n",
       "      <td>G003</td>\n",
       "      <td>CH003</td>\n",
       "      <td>PCF003</td>\n",
       "      <td>C003</td>\n",
       "      <td>D003</td>\n",
       "      <td>Funmilayo</td>\n",
       "      <td>Makuachukwu</td>\n",
       "      <td>Onu</td>\n",
       "      <td>...</td>\n",
       "      <td>0.0</td>\n",
       "      <td>0.0</td>\n",
       "      <td>0.0</td>\n",
       "      <td>0.0</td>\n",
       "      <td>0.0</td>\n",
       "      <td>0.0</td>\n",
       "      <td>0.0</td>\n",
       "      <td>0.0</td>\n",
       "      <td>0.0</td>\n",
       "      <td>0</td>\n",
       "    </tr>\n",
       "    <tr>\n",
       "      <th>3</th>\n",
       "      <td>4.0</td>\n",
       "      <td>M004</td>\n",
       "      <td>G004</td>\n",
       "      <td>CH004</td>\n",
       "      <td>PCF004</td>\n",
       "      <td>C004</td>\n",
       "      <td>D004</td>\n",
       "      <td>Makinwa</td>\n",
       "      <td>Hope</td>\n",
       "      <td>Okonkwo</td>\n",
       "      <td>...</td>\n",
       "      <td>0.0</td>\n",
       "      <td>0.0</td>\n",
       "      <td>0.0</td>\n",
       "      <td>0.0</td>\n",
       "      <td>0.0</td>\n",
       "      <td>0.0</td>\n",
       "      <td>0.0</td>\n",
       "      <td>0.0</td>\n",
       "      <td>0.0</td>\n",
       "      <td>0</td>\n",
       "    </tr>\n",
       "    <tr>\n",
       "      <th>4</th>\n",
       "      <td>5.0</td>\n",
       "      <td>M005</td>\n",
       "      <td>G005</td>\n",
       "      <td>CH005</td>\n",
       "      <td>PCF005</td>\n",
       "      <td>C005</td>\n",
       "      <td>D005</td>\n",
       "      <td>Onome</td>\n",
       "      <td>Olaoluwa</td>\n",
       "      <td>Bode</td>\n",
       "      <td>...</td>\n",
       "      <td>0.0</td>\n",
       "      <td>0.0</td>\n",
       "      <td>0.0</td>\n",
       "      <td>0.0</td>\n",
       "      <td>0.0</td>\n",
       "      <td>0.0</td>\n",
       "      <td>0.0</td>\n",
       "      <td>0.0</td>\n",
       "      <td>0.0</td>\n",
       "      <td>0</td>\n",
       "    </tr>\n",
       "  </tbody>\n",
       "</table>\n",
       "<p>5 rows × 35 columns</p>\n",
       "</div>"
      ],
      "text/plain": [
       "   S/N Member ID Group ID Church ID  PCF ID Cell ID Department ID First Name  \\\n",
       "0  1.0      M001     G001     CH001  PCF001    C001          D001    Omolara   \n",
       "1  2.0      M002     G002     CH002  PCF002    C002          D002     Olaide   \n",
       "2  3.0      M003     G003     CH003  PCF003    C003          D003  Funmilayo   \n",
       "3  4.0      M004     G004     CH004  PCF004    C004          D004    Makinwa   \n",
       "4  5.0      M005     G005     CH005  PCF005    C005          D005      Onome   \n",
       "\n",
       "   Middle Name Last Name  ... Email Notification  SMS Reminder  \\\n",
       "0       Sandra   Adeniyi  ...                0.0           0.0   \n",
       "1  Oluwanisola    Agbaje  ...                0.0           0.0   \n",
       "2  Makuachukwu       Onu  ...                0.0           0.0   \n",
       "3         Hope   Okonkwo  ...                0.0           0.0   \n",
       "4     Olaoluwa      Bode  ...                0.0           0.0   \n",
       "\n",
       "   Email Reminder Free Transportation External Speaker Church Venue  \\\n",
       "0             0.0                 0.0              0.0          0.0   \n",
       "1             0.0                 0.0              0.0          0.0   \n",
       "2             0.0                 0.0              0.0          0.0   \n",
       "3             0.0                 0.0              0.0          0.0   \n",
       "4             0.0                 0.0              0.0          0.0   \n",
       "\n",
       "  Outreach Program Celebration  Love Feast Attendance  \n",
       "0              0.0         0.0         0.0          0  \n",
       "1              0.0         0.0         0.0          0  \n",
       "2              0.0         0.0         0.0          0  \n",
       "3              0.0         0.0         0.0          0  \n",
       "4              0.0         0.0         0.0          0  \n",
       "\n",
       "[5 rows x 35 columns]"
      ]
     },
     "execution_count": 504,
     "metadata": {},
     "output_type": "execute_result"
    }
   ],
   "source": [
    "df = pd.read_excel('Members Data Final.xlsx') \n",
    "df.head()"
   ]
  },
  {
   "cell_type": "code",
   "execution_count": 505,
   "id": "e1a6ceec",
   "metadata": {},
   "outputs": [
    {
     "name": "stdout",
     "output_type": "stream",
     "text": [
      "<class 'pandas.core.frame.DataFrame'>\n",
      "RangeIndex: 1061 entries, 0 to 1060\n",
      "Data columns (total 35 columns):\n",
      " #   Column               Non-Null Count  Dtype         \n",
      "---  ------               --------------  -----         \n",
      " 0   S/N                  1060 non-null   float64       \n",
      " 1   Member ID            1060 non-null   object        \n",
      " 2   Group ID             1060 non-null   object        \n",
      " 3   Church ID            1060 non-null   object        \n",
      " 4   PCF ID               1060 non-null   object        \n",
      " 5   Cell ID              1060 non-null   object        \n",
      " 6   Department ID        1060 non-null   object        \n",
      " 7   First Name           1060 non-null   object        \n",
      " 8   Middle Name          1060 non-null   object        \n",
      " 9   Last Name            1060 non-null   object        \n",
      " 10  Gender               1060 non-null   object        \n",
      " 11  Mobile 1             1060 non-null   float64       \n",
      " 12  Mobile 2             1060 non-null   float64       \n",
      " 13  Email                1060 non-null   object        \n",
      " 14  Profession           1060 non-null   object        \n",
      " 15  Address              1060 non-null   object        \n",
      " 16  Location             1060 non-null   object        \n",
      " 17  Entry Date           1060 non-null   datetime64[ns]\n",
      " 18  Weather Condition    1060 non-null   float64       \n",
      " 19  Service Date         1060 non-null   datetime64[ns]\n",
      " 20  Service Day          1060 non-null   float64       \n",
      " 21  Service Type         1060 non-null   float64       \n",
      " 22  Service Time         1060 non-null   float64       \n",
      " 23  Public Holiday       1060 non-null   float64       \n",
      " 24  SMS Notification     1060 non-null   float64       \n",
      " 25  Email Notification   1060 non-null   float64       \n",
      " 26  SMS Reminder         1060 non-null   float64       \n",
      " 27  Email Reminder       1060 non-null   float64       \n",
      " 28  Free Transportation  1060 non-null   float64       \n",
      " 29  External Speaker     1060 non-null   float64       \n",
      " 30  Church Venue         1060 non-null   float64       \n",
      " 31  Outreach Program     1060 non-null   float64       \n",
      " 32  Celebration          1060 non-null   float64       \n",
      " 33  Love Feast           1060 non-null   float64       \n",
      " 34  Attendance           1061 non-null   int64         \n",
      "dtypes: datetime64[ns](2), float64(18), int64(1), object(14)\n",
      "memory usage: 290.2+ KB\n"
     ]
    }
   ],
   "source": [
    "df.info()"
   ]
  },
  {
   "cell_type": "code",
   "execution_count": 506,
   "id": "f1d37d84",
   "metadata": {},
   "outputs": [
    {
     "data": {
      "text/plain": [
       "0.0    540\n",
       "1.0    520\n",
       "Name: Celebration, dtype: int64"
      ]
     },
     "execution_count": 506,
     "metadata": {},
     "output_type": "execute_result"
    }
   ],
   "source": [
    "df['Celebration'].value_counts()"
   ]
  },
  {
   "cell_type": "code",
   "execution_count": 507,
   "id": "246335d3",
   "metadata": {},
   "outputs": [],
   "source": [
    "df.dropna(how='any', inplace = True) "
   ]
  },
  {
   "cell_type": "code",
   "execution_count": 508,
   "id": "0c643aaf",
   "metadata": {},
   "outputs": [
    {
     "data": {
      "text/plain": [
       "S/N                    0\n",
       "Member ID              0\n",
       "Group ID               0\n",
       "Church ID              0\n",
       "PCF ID                 0\n",
       "Cell ID                0\n",
       "Department ID          0\n",
       "First Name             0\n",
       "Middle Name            0\n",
       "Last Name              0\n",
       "Gender                 0\n",
       "Mobile 1               0\n",
       "Mobile 2               0\n",
       "Email                  0\n",
       "Profession             0\n",
       "Address                0\n",
       "Location               0\n",
       "Entry Date             0\n",
       "Weather Condition      0\n",
       "Service Date           0\n",
       "Service Day            0\n",
       "Service Type           0\n",
       "Service Time           0\n",
       "Public Holiday         0\n",
       "SMS Notification       0\n",
       "Email Notification     0\n",
       "SMS Reminder           0\n",
       "Email Reminder         0\n",
       "Free Transportation    0\n",
       "External Speaker       0\n",
       "Church Venue           0\n",
       "Outreach Program       0\n",
       "Celebration            0\n",
       "Love Feast             0\n",
       "Attendance             0\n",
       "dtype: int64"
      ]
     },
     "execution_count": 508,
     "metadata": {},
     "output_type": "execute_result"
    }
   ],
   "source": [
    "df.isnull().sum()"
   ]
  },
  {
   "cell_type": "code",
   "execution_count": 509,
   "id": "e99e1bbe",
   "metadata": {},
   "outputs": [
    {
     "data": {
      "text/plain": [
       "(1060, 35)"
      ]
     },
     "execution_count": 509,
     "metadata": {},
     "output_type": "execute_result"
    }
   ],
   "source": [
    "df.shape"
   ]
  },
  {
   "cell_type": "code",
   "execution_count": 510,
   "id": "104dc440",
   "metadata": {},
   "outputs": [
    {
     "data": {
      "text/plain": [
       "Male      530\n",
       "Female    530\n",
       "Name: Gender, dtype: int64"
      ]
     },
     "execution_count": 510,
     "metadata": {},
     "output_type": "execute_result"
    }
   ],
   "source": [
    "df['Gender'].value_counts()"
   ]
  },
  {
   "cell_type": "code",
   "execution_count": 511,
   "id": "3843a320",
   "metadata": {},
   "outputs": [
    {
     "data": {
      "text/plain": [
       "7.0    280\n",
       "2.0    260\n",
       "1.0    260\n",
       "4.0    260\n",
       "Name: Service Day, dtype: int64"
      ]
     },
     "execution_count": 511,
     "metadata": {},
     "output_type": "execute_result"
    }
   ],
   "source": [
    "df['Service Day'].value_counts()"
   ]
  },
  {
   "cell_type": "code",
   "execution_count": 512,
   "id": "fb7d24c6",
   "metadata": {},
   "outputs": [
    {
     "data": {
      "text/plain": [
       "1.0    520\n",
       "3.0    500\n",
       "2.0     40\n",
       "Name: Service Time, dtype: int64"
      ]
     },
     "execution_count": 512,
     "metadata": {},
     "output_type": "execute_result"
    }
   ],
   "source": [
    "df['Service Time'].value_counts()"
   ]
  },
  {
   "cell_type": "code",
   "execution_count": 513,
   "id": "ed67e55f",
   "metadata": {},
   "outputs": [
    {
     "data": {
      "text/plain": [
       "0.0    540\n",
       "1.0    520\n",
       "Name: Email Reminder, dtype: int64"
      ]
     },
     "execution_count": 513,
     "metadata": {},
     "output_type": "execute_result"
    }
   ],
   "source": [
    "df['Email Reminder'].value_counts()"
   ]
  },
  {
   "cell_type": "code",
   "execution_count": 514,
   "id": "9d05d58c",
   "metadata": {},
   "outputs": [
    {
     "data": {
      "text/plain": [
       "0.0    540\n",
       "1.0    520\n",
       "Name: SMS Notification, dtype: int64"
      ]
     },
     "execution_count": 514,
     "metadata": {},
     "output_type": "execute_result"
    }
   ],
   "source": [
    "df['SMS Notification'].value_counts()"
   ]
  },
  {
   "cell_type": "code",
   "execution_count": 515,
   "id": "831d445a",
   "metadata": {},
   "outputs": [
    {
     "data": {
      "text/plain": [
       "0.0    540\n",
       "1.0    520\n",
       "Name: Email Notification, dtype: int64"
      ]
     },
     "execution_count": 515,
     "metadata": {},
     "output_type": "execute_result"
    }
   ],
   "source": [
    "df['Email Notification'].value_counts()"
   ]
  },
  {
   "cell_type": "code",
   "execution_count": 516,
   "id": "3b49f784",
   "metadata": {},
   "outputs": [
    {
     "data": {
      "text/plain": [
       "0.0    540\n",
       "1.0    520\n",
       "Name: SMS Reminder, dtype: int64"
      ]
     },
     "execution_count": 516,
     "metadata": {},
     "output_type": "execute_result"
    }
   ],
   "source": [
    "df['SMS Reminder'].value_counts()"
   ]
  },
  {
   "cell_type": "code",
   "execution_count": 517,
   "id": "d1c388b8",
   "metadata": {},
   "outputs": [
    {
     "data": {
      "text/plain": [
       "0.0    540\n",
       "1.0    520\n",
       "Name: Free Transportation, dtype: int64"
      ]
     },
     "execution_count": 517,
     "metadata": {},
     "output_type": "execute_result"
    }
   ],
   "source": [
    "df['Free Transportation'].value_counts()"
   ]
  },
  {
   "cell_type": "code",
   "execution_count": 518,
   "id": "a681226c",
   "metadata": {},
   "outputs": [
    {
     "data": {
      "text/plain": [
       "0.0    540\n",
       "1.0    520\n",
       "Name: External Speaker, dtype: int64"
      ]
     },
     "execution_count": 518,
     "metadata": {},
     "output_type": "execute_result"
    }
   ],
   "source": [
    "df['External Speaker'].value_counts()"
   ]
  },
  {
   "cell_type": "code",
   "execution_count": 519,
   "id": "7d1a3839",
   "metadata": {},
   "outputs": [
    {
     "data": {
      "text/plain": [
       "0.0    540\n",
       "1.0    520\n",
       "Name: Church Venue, dtype: int64"
      ]
     },
     "execution_count": 519,
     "metadata": {},
     "output_type": "execute_result"
    }
   ],
   "source": [
    "df['Church Venue'].value_counts()"
   ]
  },
  {
   "cell_type": "code",
   "execution_count": 520,
   "id": "df8c0d18",
   "metadata": {},
   "outputs": [
    {
     "data": {
      "text/plain": [
       "0.0    540\n",
       "1.0    520\n",
       "Name: Outreach Program, dtype: int64"
      ]
     },
     "execution_count": 520,
     "metadata": {},
     "output_type": "execute_result"
    }
   ],
   "source": [
    "df['Outreach Program'].value_counts()"
   ]
  },
  {
   "cell_type": "code",
   "execution_count": 521,
   "id": "089db113",
   "metadata": {},
   "outputs": [
    {
     "data": {
      "text/plain": [
       "0.0    540\n",
       "1.0    520\n",
       "Name: Celebration, dtype: int64"
      ]
     },
     "execution_count": 521,
     "metadata": {},
     "output_type": "execute_result"
    }
   ],
   "source": [
    "df['Celebration'].value_counts()"
   ]
  },
  {
   "cell_type": "code",
   "execution_count": 522,
   "id": "64ee0af9",
   "metadata": {},
   "outputs": [
    {
     "data": {
      "text/plain": [
       "0.0    540\n",
       "1.0    520\n",
       "Name: Love Feast, dtype: int64"
      ]
     },
     "execution_count": 522,
     "metadata": {},
     "output_type": "execute_result"
    }
   ],
   "source": [
    "df['Love Feast'].value_counts()"
   ]
  },
  {
   "cell_type": "code",
   "execution_count": 523,
   "id": "44e8ac00",
   "metadata": {},
   "outputs": [
    {
     "data": {
      "text/plain": [
       "2.0    580\n",
       "1.0    480\n",
       "Name: Weather Condition, dtype: int64"
      ]
     },
     "execution_count": 523,
     "metadata": {},
     "output_type": "execute_result"
    }
   ],
   "source": [
    "df['Weather Condition'].value_counts()"
   ]
  },
  {
   "cell_type": "code",
   "execution_count": 524,
   "id": "56397b6b",
   "metadata": {},
   "outputs": [
    {
     "data": {
      "text/plain": [
       "1    558\n",
       "0    502\n",
       "Name: Attendance, dtype: int64"
      ]
     },
     "execution_count": 524,
     "metadata": {},
     "output_type": "execute_result"
    }
   ],
   "source": [
    "df['Attendance'].value_counts()"
   ]
  },
  {
   "cell_type": "code",
   "execution_count": 525,
   "id": "e6e28d6e",
   "metadata": {},
   "outputs": [
    {
     "data": {
      "text/plain": [
       "Index(['S/N', 'Member ID', 'Group ID', 'Church ID', 'PCF ID', 'Cell ID',\n",
       "       'Department ID', 'First Name', 'Middle Name', 'Last Name', 'Gender',\n",
       "       'Mobile 1', 'Mobile 2', 'Email', 'Profession ', 'Address', 'Location',\n",
       "       'Entry Date', 'Weather Condition', 'Service Date', 'Service Day',\n",
       "       'Service Type', 'Service Time', 'Public Holiday', 'SMS Notification',\n",
       "       'Email Notification', 'SMS Reminder', 'Email Reminder',\n",
       "       'Free Transportation', 'External Speaker', 'Church Venue',\n",
       "       'Outreach Program', 'Celebration', 'Love Feast', 'Attendance'],\n",
       "      dtype='object')"
      ]
     },
     "execution_count": 525,
     "metadata": {},
     "output_type": "execute_result"
    }
   ],
   "source": [
    "df.columns"
   ]
  },
  {
   "cell_type": "code",
   "execution_count": 526,
   "id": "a618a8af",
   "metadata": {},
   "outputs": [
    {
     "name": "stdout",
     "output_type": "stream",
     "text": [
      "{'Gender': {'Female': 0, 'Male': 1}}\n"
     ]
    }
   ],
   "source": [
    "category_col =['Gender'] \n",
    "labelEncoder = preprocessing.LabelEncoder()\n",
    "  \n",
    "mapping_dict ={}\n",
    "for col in category_col:\n",
    "    df[col] = labelEncoder.fit_transform(df[col])\n",
    "  \n",
    "    le_name_mapping = dict(zip(labelEncoder.classes_,\n",
    "                        labelEncoder.transform(labelEncoder.classes_)))\n",
    "  \n",
    "    mapping_dict[col]= le_name_mapping\n",
    "print(mapping_dict)"
   ]
  },
  {
   "cell_type": "code",
   "execution_count": 527,
   "id": "fe1f0142",
   "metadata": {},
   "outputs": [
    {
     "data": {
      "text/plain": [
       "(1060, 35)"
      ]
     },
     "execution_count": 527,
     "metadata": {},
     "output_type": "execute_result"
    }
   ],
   "source": [
    "df.shape"
   ]
  },
  {
   "cell_type": "code",
   "execution_count": 528,
   "id": "1dd1e44a",
   "metadata": {},
   "outputs": [],
   "source": [
    "from sklearn.model_selection import train_test_split\n",
    "from sklearn.linear_model import LogisticRegression\n",
    "from sklearn.metrics import accuracy_score, confusion_matrix, roc_curve, roc_auc_score\n",
    "import matplotlib.pyplot as plt\n",
    "import seaborn as sns\n",
    "import pickle"
   ]
  },
  {
   "cell_type": "code",
   "execution_count": 529,
   "id": "66d85b15",
   "metadata": {},
   "outputs": [
    {
     "ename": "KeyError",
     "evalue": "\"['Profession'] not in index\"",
     "output_type": "error",
     "traceback": [
      "\u001b[1;31m---------------------------------------------------------------------------\u001b[0m",
      "\u001b[1;31mKeyError\u001b[0m                                  Traceback (most recent call last)",
      "\u001b[1;32m<ipython-input-529-592a768f69c3>\u001b[0m in \u001b[0;36m<module>\u001b[1;34m\u001b[0m\n\u001b[1;32m----> 1\u001b[1;33m X = df[['S/N', 'Member ID', 'Group ID', 'Church ID', 'PCF ID', 'Cell ID',\n\u001b[0m\u001b[0;32m      2\u001b[0m        \u001b[1;34m'Department ID'\u001b[0m\u001b[1;33m,\u001b[0m \u001b[1;34m'First Name'\u001b[0m\u001b[1;33m,\u001b[0m \u001b[1;34m'Middle Name'\u001b[0m\u001b[1;33m,\u001b[0m \u001b[1;34m'Last Name'\u001b[0m\u001b[1;33m,\u001b[0m \u001b[1;34m'Gender'\u001b[0m\u001b[1;33m,\u001b[0m\u001b[1;33m\u001b[0m\u001b[1;33m\u001b[0m\u001b[0m\n\u001b[0;32m      3\u001b[0m        \u001b[1;34m'Mobile 1'\u001b[0m\u001b[1;33m,\u001b[0m \u001b[1;34m'Mobile 2'\u001b[0m\u001b[1;33m,\u001b[0m \u001b[1;34m'Email'\u001b[0m\u001b[1;33m,\u001b[0m \u001b[1;34m'Profession'\u001b[0m\u001b[1;33m,\u001b[0m \u001b[1;34m'Address'\u001b[0m\u001b[1;33m,\u001b[0m \u001b[1;34m'Location'\u001b[0m\u001b[1;33m,\u001b[0m\u001b[1;33m\u001b[0m\u001b[1;33m\u001b[0m\u001b[0m\n\u001b[0;32m      4\u001b[0m        \u001b[1;34m'Entry Date'\u001b[0m\u001b[1;33m,\u001b[0m \u001b[1;34m'Weather Condition'\u001b[0m\u001b[1;33m,\u001b[0m \u001b[1;34m'Service Date'\u001b[0m\u001b[1;33m,\u001b[0m \u001b[1;34m'Service Day'\u001b[0m\u001b[1;33m,\u001b[0m\u001b[1;33m\u001b[0m\u001b[1;33m\u001b[0m\u001b[0m\n\u001b[0;32m      5\u001b[0m        \u001b[1;34m'Service Type'\u001b[0m\u001b[1;33m,\u001b[0m \u001b[1;34m'Service Time'\u001b[0m\u001b[1;33m,\u001b[0m \u001b[1;34m'Public Holiday'\u001b[0m\u001b[1;33m,\u001b[0m \u001b[1;34m'SMS Notification'\u001b[0m\u001b[1;33m,\u001b[0m\u001b[1;33m\u001b[0m\u001b[1;33m\u001b[0m\u001b[0m\n",
      "\u001b[1;32m~\\anaconda3\\lib\\site-packages\\pandas\\core\\frame.py\u001b[0m in \u001b[0;36m__getitem__\u001b[1;34m(self, key)\u001b[0m\n\u001b[0;32m   3028\u001b[0m             \u001b[1;32mif\u001b[0m \u001b[0mis_iterator\u001b[0m\u001b[1;33m(\u001b[0m\u001b[0mkey\u001b[0m\u001b[1;33m)\u001b[0m\u001b[1;33m:\u001b[0m\u001b[1;33m\u001b[0m\u001b[1;33m\u001b[0m\u001b[0m\n\u001b[0;32m   3029\u001b[0m                 \u001b[0mkey\u001b[0m \u001b[1;33m=\u001b[0m \u001b[0mlist\u001b[0m\u001b[1;33m(\u001b[0m\u001b[0mkey\u001b[0m\u001b[1;33m)\u001b[0m\u001b[1;33m\u001b[0m\u001b[1;33m\u001b[0m\u001b[0m\n\u001b[1;32m-> 3030\u001b[1;33m             \u001b[0mindexer\u001b[0m \u001b[1;33m=\u001b[0m \u001b[0mself\u001b[0m\u001b[1;33m.\u001b[0m\u001b[0mloc\u001b[0m\u001b[1;33m.\u001b[0m\u001b[0m_get_listlike_indexer\u001b[0m\u001b[1;33m(\u001b[0m\u001b[0mkey\u001b[0m\u001b[1;33m,\u001b[0m \u001b[0maxis\u001b[0m\u001b[1;33m=\u001b[0m\u001b[1;36m1\u001b[0m\u001b[1;33m,\u001b[0m \u001b[0mraise_missing\u001b[0m\u001b[1;33m=\u001b[0m\u001b[1;32mTrue\u001b[0m\u001b[1;33m)\u001b[0m\u001b[1;33m[\u001b[0m\u001b[1;36m1\u001b[0m\u001b[1;33m]\u001b[0m\u001b[1;33m\u001b[0m\u001b[1;33m\u001b[0m\u001b[0m\n\u001b[0m\u001b[0;32m   3031\u001b[0m \u001b[1;33m\u001b[0m\u001b[0m\n\u001b[0;32m   3032\u001b[0m         \u001b[1;31m# take() does not accept boolean indexers\u001b[0m\u001b[1;33m\u001b[0m\u001b[1;33m\u001b[0m\u001b[1;33m\u001b[0m\u001b[0m\n",
      "\u001b[1;32m~\\anaconda3\\lib\\site-packages\\pandas\\core\\indexing.py\u001b[0m in \u001b[0;36m_get_listlike_indexer\u001b[1;34m(self, key, axis, raise_missing)\u001b[0m\n\u001b[0;32m   1264\u001b[0m             \u001b[0mkeyarr\u001b[0m\u001b[1;33m,\u001b[0m \u001b[0mindexer\u001b[0m\u001b[1;33m,\u001b[0m \u001b[0mnew_indexer\u001b[0m \u001b[1;33m=\u001b[0m \u001b[0max\u001b[0m\u001b[1;33m.\u001b[0m\u001b[0m_reindex_non_unique\u001b[0m\u001b[1;33m(\u001b[0m\u001b[0mkeyarr\u001b[0m\u001b[1;33m)\u001b[0m\u001b[1;33m\u001b[0m\u001b[1;33m\u001b[0m\u001b[0m\n\u001b[0;32m   1265\u001b[0m \u001b[1;33m\u001b[0m\u001b[0m\n\u001b[1;32m-> 1266\u001b[1;33m         \u001b[0mself\u001b[0m\u001b[1;33m.\u001b[0m\u001b[0m_validate_read_indexer\u001b[0m\u001b[1;33m(\u001b[0m\u001b[0mkeyarr\u001b[0m\u001b[1;33m,\u001b[0m \u001b[0mindexer\u001b[0m\u001b[1;33m,\u001b[0m \u001b[0maxis\u001b[0m\u001b[1;33m,\u001b[0m \u001b[0mraise_missing\u001b[0m\u001b[1;33m=\u001b[0m\u001b[0mraise_missing\u001b[0m\u001b[1;33m)\u001b[0m\u001b[1;33m\u001b[0m\u001b[1;33m\u001b[0m\u001b[0m\n\u001b[0m\u001b[0;32m   1267\u001b[0m         \u001b[1;32mreturn\u001b[0m \u001b[0mkeyarr\u001b[0m\u001b[1;33m,\u001b[0m \u001b[0mindexer\u001b[0m\u001b[1;33m\u001b[0m\u001b[1;33m\u001b[0m\u001b[0m\n\u001b[0;32m   1268\u001b[0m \u001b[1;33m\u001b[0m\u001b[0m\n",
      "\u001b[1;32m~\\anaconda3\\lib\\site-packages\\pandas\\core\\indexing.py\u001b[0m in \u001b[0;36m_validate_read_indexer\u001b[1;34m(self, key, indexer, axis, raise_missing)\u001b[0m\n\u001b[0;32m   1314\u001b[0m             \u001b[1;32mif\u001b[0m \u001b[0mraise_missing\u001b[0m\u001b[1;33m:\u001b[0m\u001b[1;33m\u001b[0m\u001b[1;33m\u001b[0m\u001b[0m\n\u001b[0;32m   1315\u001b[0m                 \u001b[0mnot_found\u001b[0m \u001b[1;33m=\u001b[0m \u001b[0mlist\u001b[0m\u001b[1;33m(\u001b[0m\u001b[0mset\u001b[0m\u001b[1;33m(\u001b[0m\u001b[0mkey\u001b[0m\u001b[1;33m)\u001b[0m \u001b[1;33m-\u001b[0m \u001b[0mset\u001b[0m\u001b[1;33m(\u001b[0m\u001b[0max\u001b[0m\u001b[1;33m)\u001b[0m\u001b[1;33m)\u001b[0m\u001b[1;33m\u001b[0m\u001b[1;33m\u001b[0m\u001b[0m\n\u001b[1;32m-> 1316\u001b[1;33m                 \u001b[1;32mraise\u001b[0m \u001b[0mKeyError\u001b[0m\u001b[1;33m(\u001b[0m\u001b[1;34mf\"{not_found} not in index\"\u001b[0m\u001b[1;33m)\u001b[0m\u001b[1;33m\u001b[0m\u001b[1;33m\u001b[0m\u001b[0m\n\u001b[0m\u001b[0;32m   1317\u001b[0m \u001b[1;33m\u001b[0m\u001b[0m\n\u001b[0;32m   1318\u001b[0m             \u001b[0mnot_found\u001b[0m \u001b[1;33m=\u001b[0m \u001b[0mkey\u001b[0m\u001b[1;33m[\u001b[0m\u001b[0mmissing_mask\u001b[0m\u001b[1;33m]\u001b[0m\u001b[1;33m\u001b[0m\u001b[1;33m\u001b[0m\u001b[0m\n",
      "\u001b[1;31mKeyError\u001b[0m: \"['Profession'] not in index\""
     ]
    }
   ],
   "source": [
    "X = df[['S/N', 'Member ID', 'Group ID', 'Church ID', 'PCF ID', 'Cell ID',\n",
    "       'Department ID', 'First Name', 'Middle Name', 'Last Name', 'Gender',\n",
    "       'Mobile 1', 'Mobile 2', 'Email', 'Profession', 'Address', 'Location',\n",
    "       'Entry Date', 'Weather Condition', 'Service Date', 'Service Day',\n",
    "       'Service Type', 'Service Time', 'Public Holiday', 'SMS Notification',\n",
    "       'Email Notification', 'SMS Reminder', 'Email Reminder',\n",
    "       'Free Transportation', 'External Speaker', 'Church Venue',\n",
    "       'Outreach Program', 'Celebration', 'Love Feast']]\n",
    "y = df[\"Attendance\"]\n",
    "\n",
    "X.columns"
   ]
  },
  {
   "cell_type": "code",
   "execution_count": null,
   "id": "4d625f11",
   "metadata": {},
   "outputs": [],
   "source": [
    "X_train, X_test, y_train, y_test = train_test_split(\n",
    "           X, y, test_size = 0.3, random_state = 100)\n",
    "\n",
    "  \n",
    "X_train_data = X_train.drop(['S/N', 'Member ID', 'Group ID', 'Church ID', 'PCF ID', 'Cell ID',\n",
    "       'Department ID', 'First Name', 'Middle Name', 'Last Name', 'Gender',\n",
    "       'Mobile 1', 'Mobile 2', 'Email', 'Profession', 'Address', 'Location',\n",
    "       'Entry Date','Service Type','Service Date'], axis=1).copy()\n",
    "\n",
    "X_test_data = X_test.drop(['S/N', 'Member ID', 'Group ID', 'Church ID', 'PCF ID', 'Cell ID',\n",
    "       'Department ID', 'First Name', 'Middle Name', 'Last Name', 'Gender',\n",
    "       'Mobile 1', 'Mobile 2', 'Email', 'Profession', 'Address', 'Location',\n",
    "       'Entry Date','Service Type','Service Date'], axis=1).copy()"
   ]
  },
  {
   "cell_type": "code",
   "execution_count": null,
   "id": "92e221c9",
   "metadata": {},
   "outputs": [],
   "source": [
    "lr = LogisticRegression()\n",
    "\n",
    "lr.fit(X_train_data, y_train)\n",
    "y_pred_proba = lr.predict_proba(X_test_data)[:, 1]"
   ]
  },
  {
   "cell_type": "code",
   "execution_count": null,
   "id": "88f92656",
   "metadata": {},
   "outputs": [],
   "source": [
    "y_pred = lr.predict(X_test_data)"
   ]
  },
  {
   "cell_type": "code",
   "execution_count": null,
   "id": "20ebe759",
   "metadata": {},
   "outputs": [],
   "source": [
    "X_test.columns"
   ]
  },
  {
   "cell_type": "code",
   "execution_count": null,
   "id": "ead1b820",
   "metadata": {},
   "outputs": [],
   "source": [
    "pred_cols_proba = pd.DataFrame({\n",
    "        \"Member ID\": X_test[\"Member ID\"],\n",
    "        \"Group ID\": X_test[\"Group ID\"],\n",
    "        \"Church ID\": X_test[\"Church ID\"],\n",
    "        \"PCF ID\": X_test[\"PCF ID\"],\n",
    "        \"Cell ID\": X_test[\"Cell ID\"],\n",
    "        \"Department ID\": X_test[\"Department ID\"],\n",
    "        \"First Name\": X_test[\"First Name\"],\n",
    "        \"Last Name\": X_test[\"Last Name\"],\n",
    "        \"Attendance\": y_pred_proba\n",
    "    })"
   ]
  },
  {
   "cell_type": "code",
   "execution_count": null,
   "id": "dd03ecf5",
   "metadata": {},
   "outputs": [],
   "source": [
    "pred_cols_proba"
   ]
  },
  {
   "cell_type": "code",
   "execution_count": null,
   "id": "68721621",
   "metadata": {},
   "outputs": [],
   "source": [
    "pred_cols = pd.DataFrame({\n",
    "        \"Member ID\": X_test[\"Member ID\"],\n",
    "        \"Group ID\": X_test[\"Group ID\"],\n",
    "        \"Church ID\": X_test[\"Church ID\"],\n",
    "        \"PCF ID\": X_test[\"PCF ID\"],\n",
    "        \"Cell ID\": X_test[\"Cell ID\"],\n",
    "        \"Department ID\": X_test[\"Department ID\"],\n",
    "        \"First Name\": X_test[\"First Name\"],\n",
    "        \"Last Name\": X_test[\"Last Name\"],\n",
    "        \"Attendance\":y_test,\n",
    "        \"Attendance_Pred\": y_pred\n",
    "    })"
   ]
  },
  {
   "cell_type": "code",
   "execution_count": null,
   "id": "f91bf5ca",
   "metadata": {},
   "outputs": [],
   "source": [
    "pred_cols"
   ]
  },
  {
   "cell_type": "code",
   "execution_count": null,
   "id": "9b06da6e",
   "metadata": {},
   "outputs": [],
   "source": [
    "cnf_matrix = confusion_matrix(y_test, y_pred)\n",
    "cnf_matrix"
   ]
  },
  {
   "cell_type": "code",
   "execution_count": null,
   "id": "dd290b15",
   "metadata": {},
   "outputs": [],
   "source": [
    "confusion_matrix_df = pd.crosstab(pred_cols['Attendance'], pred_cols['Attendance_Pred'], rownames=['Actual'], colnames=['Predicted'])\n",
    "\n",
    "sns.heatmap(confusion_matrix_df, annot=True)\n",
    "plt.show()"
   ]
  },
  {
   "cell_type": "code",
   "execution_count": null,
   "id": "d546377c",
   "metadata": {},
   "outputs": [],
   "source": [
    "print(\"Accuracy:\",accuracy_score(y_test, y_pred))"
   ]
  },
  {
   "cell_type": "code",
   "execution_count": null,
   "id": "fdeaf392",
   "metadata": {},
   "outputs": [],
   "source": [
    "#define metrics\n",
    "y_pred_proba = lr.predict_proba(X_test_data)[:,1]\n",
    "fpr, tpr, _ = roc_curve(y_test,  y_pred_proba)\n",
    "auc = roc_auc_score(y_test, y_pred_proba)\n",
    "\n",
    "#create ROC curve\n",
    "plt.plot(fpr,tpr,label=\"AUC=\"+str(auc))\n",
    "plt.legend(loc=4)\n",
    "plt.show()"
   ]
  },
  {
   "cell_type": "code",
   "execution_count": null,
   "id": "575d887d",
   "metadata": {},
   "outputs": [],
   "source": [
    "pickle.dump(model, open('model.pkl','wb'))"
   ]
  },
  {
   "cell_type": "code",
   "execution_count": null,
   "id": "892bea80",
   "metadata": {},
   "outputs": [],
   "source": []
  }
 ],
 "metadata": {
  "kernelspec": {
   "display_name": "Python 3",
   "language": "python",
   "name": "python3"
  },
  "language_info": {
   "codemirror_mode": {
    "name": "ipython",
    "version": 3
   },
   "file_extension": ".py",
   "mimetype": "text/x-python",
   "name": "python",
   "nbconvert_exporter": "python",
   "pygments_lexer": "ipython3",
   "version": "3.8.8"
  }
 },
 "nbformat": 4,
 "nbformat_minor": 5
}
