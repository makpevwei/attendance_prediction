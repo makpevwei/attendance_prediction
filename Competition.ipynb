{
 "cells": [
  {
   "cell_type": "code",
   "execution_count": 762,
   "id": "274fe8c1",
   "metadata": {},
   "outputs": [],
   "source": [
    "# importing the dataset\n",
    "import pandas as pd\n",
    "import numpy as np\n",
    "from sklearn import preprocessing"
   ]
  },
  {
   "cell_type": "code",
   "execution_count": 763,
   "id": "f5a68466",
   "metadata": {},
   "outputs": [],
   "source": [
    "df = pd.read_excel('Members Data Final.xlsx') "
   ]
  },
  {
   "cell_type": "code",
   "execution_count": 764,
   "id": "2f2179be",
   "metadata": {},
   "outputs": [
    {
     "data": {
      "text/plain": [
       "Index(['S/N', 'Member ID', 'Group ID', 'Church ID', 'PCF ID', 'Cell ID',\n",
       "       'Department ID', 'First Name', 'Middle Name', 'Last Name', 'Gender',\n",
       "       'Mobile 1', 'Mobile 2', 'Email', 'Profession', 'Address', 'Location',\n",
       "       'Entry Date', 'Weather Condition', 'Service Date', 'Service Day',\n",
       "       'Service Type', 'Service Time', 'Public Holiday', 'SMS Notification',\n",
       "       'Email Notification', 'SMS Reminder', 'Email Reminder',\n",
       "       'Free Transportation', 'External Speaker', 'Church Venue',\n",
       "       'Outreach Program', 'Celebration', 'Love Feast', 'Attendance'],\n",
       "      dtype='object')"
      ]
     },
     "execution_count": 764,
     "metadata": {},
     "output_type": "execute_result"
    }
   ],
   "source": [
    "df.columns"
   ]
  },
  {
   "cell_type": "code",
   "execution_count": 765,
   "id": "6b055ff1",
   "metadata": {},
   "outputs": [],
   "source": [
    "df.dropna(axis=0,how='any',inplace=True )"
   ]
  },
  {
   "cell_type": "code",
   "execution_count": 766,
   "id": "0c643aaf",
   "metadata": {},
   "outputs": [
    {
     "data": {
      "text/plain": [
       "S/N                    0\n",
       "Member ID              0\n",
       "Group ID               0\n",
       "Church ID              0\n",
       "PCF ID                 0\n",
       "Cell ID                0\n",
       "Department ID          0\n",
       "First Name             0\n",
       "Middle Name            0\n",
       "Last Name              0\n",
       "Gender                 0\n",
       "Mobile 1               0\n",
       "Mobile 2               0\n",
       "Email                  0\n",
       "Profession             0\n",
       "Address                0\n",
       "Location               0\n",
       "Entry Date             0\n",
       "Weather Condition      0\n",
       "Service Date           0\n",
       "Service Day            0\n",
       "Service Type           0\n",
       "Service Time           0\n",
       "Public Holiday         0\n",
       "SMS Notification       0\n",
       "Email Notification     0\n",
       "SMS Reminder           0\n",
       "Email Reminder         0\n",
       "Free Transportation    0\n",
       "External Speaker       0\n",
       "Church Venue           0\n",
       "Outreach Program       0\n",
       "Celebration            0\n",
       "Love Feast             0\n",
       "Attendance             0\n",
       "dtype: int64"
      ]
     },
     "execution_count": 766,
     "metadata": {},
     "output_type": "execute_result"
    }
   ],
   "source": [
    "df.isnull().sum()"
   ]
  },
  {
   "cell_type": "code",
   "execution_count": 767,
   "id": "03327ed1",
   "metadata": {},
   "outputs": [
    {
     "data": {
      "text/html": [
       "<div>\n",
       "<style scoped>\n",
       "    .dataframe tbody tr th:only-of-type {\n",
       "        vertical-align: middle;\n",
       "    }\n",
       "\n",
       "    .dataframe tbody tr th {\n",
       "        vertical-align: top;\n",
       "    }\n",
       "\n",
       "    .dataframe thead th {\n",
       "        text-align: right;\n",
       "    }\n",
       "</style>\n",
       "<table border=\"1\" class=\"dataframe\">\n",
       "  <thead>\n",
       "    <tr style=\"text-align: right;\">\n",
       "      <th></th>\n",
       "      <th>S/N</th>\n",
       "      <th>Member ID</th>\n",
       "      <th>Group ID</th>\n",
       "      <th>Church ID</th>\n",
       "      <th>PCF ID</th>\n",
       "      <th>Cell ID</th>\n",
       "      <th>Department ID</th>\n",
       "      <th>First Name</th>\n",
       "      <th>Middle Name</th>\n",
       "      <th>Last Name</th>\n",
       "      <th>...</th>\n",
       "      <th>Email Notification</th>\n",
       "      <th>SMS Reminder</th>\n",
       "      <th>Email Reminder</th>\n",
       "      <th>Free Transportation</th>\n",
       "      <th>External Speaker</th>\n",
       "      <th>Church Venue</th>\n",
       "      <th>Outreach Program</th>\n",
       "      <th>Celebration</th>\n",
       "      <th>Love Feast</th>\n",
       "      <th>Attendance</th>\n",
       "    </tr>\n",
       "  </thead>\n",
       "  <tbody>\n",
       "    <tr>\n",
       "      <th>0</th>\n",
       "      <td>1.0</td>\n",
       "      <td>M001</td>\n",
       "      <td>G001</td>\n",
       "      <td>CH001</td>\n",
       "      <td>PCF001</td>\n",
       "      <td>C001</td>\n",
       "      <td>D001</td>\n",
       "      <td>Omolara</td>\n",
       "      <td>Sandra</td>\n",
       "      <td>Adeniyi</td>\n",
       "      <td>...</td>\n",
       "      <td>0</td>\n",
       "      <td>0</td>\n",
       "      <td>0</td>\n",
       "      <td>0</td>\n",
       "      <td>0</td>\n",
       "      <td>0</td>\n",
       "      <td>0</td>\n",
       "      <td>0</td>\n",
       "      <td>0</td>\n",
       "      <td>0</td>\n",
       "    </tr>\n",
       "    <tr>\n",
       "      <th>1</th>\n",
       "      <td>2.0</td>\n",
       "      <td>M002</td>\n",
       "      <td>G002</td>\n",
       "      <td>CH002</td>\n",
       "      <td>PCF002</td>\n",
       "      <td>C002</td>\n",
       "      <td>D002</td>\n",
       "      <td>Olaide</td>\n",
       "      <td>Oluwanisola</td>\n",
       "      <td>Agbaje</td>\n",
       "      <td>...</td>\n",
       "      <td>0</td>\n",
       "      <td>0</td>\n",
       "      <td>0</td>\n",
       "      <td>0</td>\n",
       "      <td>0</td>\n",
       "      <td>0</td>\n",
       "      <td>0</td>\n",
       "      <td>0</td>\n",
       "      <td>0</td>\n",
       "      <td>1</td>\n",
       "    </tr>\n",
       "    <tr>\n",
       "      <th>2</th>\n",
       "      <td>3.0</td>\n",
       "      <td>M003</td>\n",
       "      <td>G003</td>\n",
       "      <td>CH003</td>\n",
       "      <td>PCF003</td>\n",
       "      <td>C003</td>\n",
       "      <td>D003</td>\n",
       "      <td>Funmilayo</td>\n",
       "      <td>Makuachukwu</td>\n",
       "      <td>Onu</td>\n",
       "      <td>...</td>\n",
       "      <td>0</td>\n",
       "      <td>0</td>\n",
       "      <td>0</td>\n",
       "      <td>0</td>\n",
       "      <td>0</td>\n",
       "      <td>0</td>\n",
       "      <td>0</td>\n",
       "      <td>0</td>\n",
       "      <td>0</td>\n",
       "      <td>0</td>\n",
       "    </tr>\n",
       "    <tr>\n",
       "      <th>3</th>\n",
       "      <td>4.0</td>\n",
       "      <td>M004</td>\n",
       "      <td>G004</td>\n",
       "      <td>CH004</td>\n",
       "      <td>PCF004</td>\n",
       "      <td>C004</td>\n",
       "      <td>D004</td>\n",
       "      <td>Makinwa</td>\n",
       "      <td>Hope</td>\n",
       "      <td>Okonkwo</td>\n",
       "      <td>...</td>\n",
       "      <td>0</td>\n",
       "      <td>0</td>\n",
       "      <td>0</td>\n",
       "      <td>0</td>\n",
       "      <td>0</td>\n",
       "      <td>0</td>\n",
       "      <td>0</td>\n",
       "      <td>0</td>\n",
       "      <td>0</td>\n",
       "      <td>1</td>\n",
       "    </tr>\n",
       "    <tr>\n",
       "      <th>4</th>\n",
       "      <td>5.0</td>\n",
       "      <td>M005</td>\n",
       "      <td>G005</td>\n",
       "      <td>CH005</td>\n",
       "      <td>PCF005</td>\n",
       "      <td>C005</td>\n",
       "      <td>D005</td>\n",
       "      <td>Onome</td>\n",
       "      <td>Olaoluwa</td>\n",
       "      <td>Bode</td>\n",
       "      <td>...</td>\n",
       "      <td>0</td>\n",
       "      <td>0</td>\n",
       "      <td>0</td>\n",
       "      <td>0</td>\n",
       "      <td>0</td>\n",
       "      <td>0</td>\n",
       "      <td>0</td>\n",
       "      <td>0</td>\n",
       "      <td>0</td>\n",
       "      <td>1</td>\n",
       "    </tr>\n",
       "  </tbody>\n",
       "</table>\n",
       "<p>5 rows × 35 columns</p>\n",
       "</div>"
      ],
      "text/plain": [
       "   S/N Member ID Group ID Church ID  PCF ID Cell ID Department ID First Name  \\\n",
       "0  1.0      M001     G001     CH001  PCF001    C001          D001    Omolara   \n",
       "1  2.0      M002     G002     CH002  PCF002    C002          D002     Olaide   \n",
       "2  3.0      M003     G003     CH003  PCF003    C003          D003  Funmilayo   \n",
       "3  4.0      M004     G004     CH004  PCF004    C004          D004    Makinwa   \n",
       "4  5.0      M005     G005     CH005  PCF005    C005          D005      Onome   \n",
       "\n",
       "   Middle Name Last Name  ... Email Notification  SMS Reminder  \\\n",
       "0       Sandra   Adeniyi  ...                  0             0   \n",
       "1  Oluwanisola    Agbaje  ...                  0             0   \n",
       "2  Makuachukwu       Onu  ...                  0             0   \n",
       "3         Hope   Okonkwo  ...                  0             0   \n",
       "4     Olaoluwa      Bode  ...                  0             0   \n",
       "\n",
       "   Email Reminder Free Transportation External Speaker Church Venue  \\\n",
       "0               0                   0                0            0   \n",
       "1               0                   0                0            0   \n",
       "2               0                   0                0            0   \n",
       "3               0                   0                0            0   \n",
       "4               0                   0                0            0   \n",
       "\n",
       "  Outreach Program Celebration  Love Feast Attendance  \n",
       "0                0           0           0          0  \n",
       "1                0           0           0          1  \n",
       "2                0           0           0          0  \n",
       "3                0           0           0          1  \n",
       "4                0           0           0          1  \n",
       "\n",
       "[5 rows x 35 columns]"
      ]
     },
     "execution_count": 767,
     "metadata": {},
     "output_type": "execute_result"
    }
   ],
   "source": [
    "df[['Weather Condition', 'Service Day',\n",
    "       'Service Time', 'Public Holiday', 'SMS Notification',\n",
    "       'Email Notification', 'SMS Reminder', 'Email Reminder',\n",
    "       'Free Transportation', 'External Speaker', 'Church Venue',\n",
    "       'Outreach Program', 'Celebration', 'Love Feast']] = df[['Weather Condition', 'Service Day','Service Time', 'Public Holiday', 'SMS Notification',\n",
    "       'Email Notification', 'SMS Reminder', 'Email Reminder',\n",
    "       'Free Transportation', 'External Speaker', 'Church Venue',\n",
    "       'Outreach Program', 'Celebration', 'Love Feast']].astype(int)\n",
    "df.head()"
   ]
  },
  {
   "cell_type": "code",
   "execution_count": 768,
   "id": "e1a6ceec",
   "metadata": {},
   "outputs": [
    {
     "name": "stdout",
     "output_type": "stream",
     "text": [
      "<class 'pandas.core.frame.DataFrame'>\n",
      "Int64Index: 1060 entries, 0 to 1059\n",
      "Data columns (total 35 columns):\n",
      " #   Column               Non-Null Count  Dtype         \n",
      "---  ------               --------------  -----         \n",
      " 0   S/N                  1060 non-null   float64       \n",
      " 1   Member ID            1060 non-null   object        \n",
      " 2   Group ID             1060 non-null   object        \n",
      " 3   Church ID            1060 non-null   object        \n",
      " 4   PCF ID               1060 non-null   object        \n",
      " 5   Cell ID              1060 non-null   object        \n",
      " 6   Department ID        1060 non-null   object        \n",
      " 7   First Name           1060 non-null   object        \n",
      " 8   Middle Name          1060 non-null   object        \n",
      " 9   Last Name            1060 non-null   object        \n",
      " 10  Gender               1060 non-null   object        \n",
      " 11  Mobile 1             1060 non-null   float64       \n",
      " 12  Mobile 2             1060 non-null   float64       \n",
      " 13  Email                1060 non-null   object        \n",
      " 14  Profession           1060 non-null   object        \n",
      " 15  Address              1060 non-null   object        \n",
      " 16  Location             1060 non-null   object        \n",
      " 17  Entry Date           1060 non-null   datetime64[ns]\n",
      " 18  Weather Condition    1060 non-null   int32         \n",
      " 19  Service Date         1060 non-null   datetime64[ns]\n",
      " 20  Service Day          1060 non-null   int32         \n",
      " 21  Service Type         1060 non-null   float64       \n",
      " 22  Service Time         1060 non-null   int32         \n",
      " 23  Public Holiday       1060 non-null   int32         \n",
      " 24  SMS Notification     1060 non-null   int32         \n",
      " 25  Email Notification   1060 non-null   int32         \n",
      " 26  SMS Reminder         1060 non-null   int32         \n",
      " 27  Email Reminder       1060 non-null   int32         \n",
      " 28  Free Transportation  1060 non-null   int32         \n",
      " 29  External Speaker     1060 non-null   int32         \n",
      " 30  Church Venue         1060 non-null   int32         \n",
      " 31  Outreach Program     1060 non-null   int32         \n",
      " 32  Celebration          1060 non-null   int32         \n",
      " 33  Love Feast           1060 non-null   int32         \n",
      " 34  Attendance           1060 non-null   int64         \n",
      "dtypes: datetime64[ns](2), float64(4), int32(14), int64(1), object(14)\n",
      "memory usage: 240.2+ KB\n"
     ]
    }
   ],
   "source": [
    "df.info()"
   ]
  },
  {
   "cell_type": "code",
   "execution_count": 769,
   "id": "f1d37d84",
   "metadata": {},
   "outputs": [
    {
     "data": {
      "text/plain": [
       "0    540\n",
       "1    520\n",
       "Name: Celebration, dtype: int64"
      ]
     },
     "execution_count": 769,
     "metadata": {},
     "output_type": "execute_result"
    }
   ],
   "source": [
    "df['Celebration'].value_counts()"
   ]
  },
  {
   "cell_type": "code",
   "execution_count": 770,
   "id": "e99e1bbe",
   "metadata": {},
   "outputs": [
    {
     "data": {
      "text/plain": [
       "(1060, 35)"
      ]
     },
     "execution_count": 770,
     "metadata": {},
     "output_type": "execute_result"
    }
   ],
   "source": [
    "df.shape"
   ]
  },
  {
   "cell_type": "code",
   "execution_count": 771,
   "id": "104dc440",
   "metadata": {},
   "outputs": [
    {
     "data": {
      "text/plain": [
       "Male      530\n",
       "Female    530\n",
       "Name: Gender, dtype: int64"
      ]
     },
     "execution_count": 771,
     "metadata": {},
     "output_type": "execute_result"
    }
   ],
   "source": [
    "df['Gender'].value_counts()"
   ]
  },
  {
   "cell_type": "code",
   "execution_count": 772,
   "id": "3843a320",
   "metadata": {},
   "outputs": [
    {
     "data": {
      "text/plain": [
       "7    280\n",
       "1    260\n",
       "2    260\n",
       "4    260\n",
       "Name: Service Day, dtype: int64"
      ]
     },
     "execution_count": 772,
     "metadata": {},
     "output_type": "execute_result"
    }
   ],
   "source": [
    "df['Service Day'].value_counts()"
   ]
  },
  {
   "cell_type": "code",
   "execution_count": 773,
   "id": "fb7d24c6",
   "metadata": {},
   "outputs": [
    {
     "data": {
      "text/plain": [
       "1    520\n",
       "3    500\n",
       "2     40\n",
       "Name: Service Time, dtype: int64"
      ]
     },
     "execution_count": 773,
     "metadata": {},
     "output_type": "execute_result"
    }
   ],
   "source": [
    "df['Service Time'].value_counts()"
   ]
  },
  {
   "cell_type": "code",
   "execution_count": 774,
   "id": "ed67e55f",
   "metadata": {},
   "outputs": [
    {
     "data": {
      "text/plain": [
       "0    540\n",
       "1    520\n",
       "Name: Email Reminder, dtype: int64"
      ]
     },
     "execution_count": 774,
     "metadata": {},
     "output_type": "execute_result"
    }
   ],
   "source": [
    "df['Email Reminder'].value_counts()"
   ]
  },
  {
   "cell_type": "code",
   "execution_count": 775,
   "id": "9d05d58c",
   "metadata": {},
   "outputs": [
    {
     "data": {
      "text/plain": [
       "0    540\n",
       "1    520\n",
       "Name: SMS Notification, dtype: int64"
      ]
     },
     "execution_count": 775,
     "metadata": {},
     "output_type": "execute_result"
    }
   ],
   "source": [
    "df['SMS Notification'].value_counts()"
   ]
  },
  {
   "cell_type": "code",
   "execution_count": 776,
   "id": "831d445a",
   "metadata": {},
   "outputs": [
    {
     "data": {
      "text/plain": [
       "0    540\n",
       "1    520\n",
       "Name: Email Notification, dtype: int64"
      ]
     },
     "execution_count": 776,
     "metadata": {},
     "output_type": "execute_result"
    }
   ],
   "source": [
    "df['Email Notification'].value_counts()"
   ]
  },
  {
   "cell_type": "code",
   "execution_count": 777,
   "id": "3b49f784",
   "metadata": {},
   "outputs": [
    {
     "data": {
      "text/plain": [
       "0    540\n",
       "1    520\n",
       "Name: SMS Reminder, dtype: int64"
      ]
     },
     "execution_count": 777,
     "metadata": {},
     "output_type": "execute_result"
    }
   ],
   "source": [
    "df['SMS Reminder'].value_counts()"
   ]
  },
  {
   "cell_type": "code",
   "execution_count": 778,
   "id": "d1c388b8",
   "metadata": {},
   "outputs": [
    {
     "data": {
      "text/plain": [
       "0    540\n",
       "1    520\n",
       "Name: Free Transportation, dtype: int64"
      ]
     },
     "execution_count": 778,
     "metadata": {},
     "output_type": "execute_result"
    }
   ],
   "source": [
    "df['Free Transportation'].value_counts()"
   ]
  },
  {
   "cell_type": "code",
   "execution_count": 779,
   "id": "a681226c",
   "metadata": {},
   "outputs": [
    {
     "data": {
      "text/plain": [
       "0    540\n",
       "1    520\n",
       "Name: External Speaker, dtype: int64"
      ]
     },
     "execution_count": 779,
     "metadata": {},
     "output_type": "execute_result"
    }
   ],
   "source": [
    "df['External Speaker'].value_counts()"
   ]
  },
  {
   "cell_type": "code",
   "execution_count": 780,
   "id": "7d1a3839",
   "metadata": {},
   "outputs": [
    {
     "data": {
      "text/plain": [
       "0    540\n",
       "1    520\n",
       "Name: Church Venue, dtype: int64"
      ]
     },
     "execution_count": 780,
     "metadata": {},
     "output_type": "execute_result"
    }
   ],
   "source": [
    "df['Church Venue'].value_counts()"
   ]
  },
  {
   "cell_type": "code",
   "execution_count": 781,
   "id": "df8c0d18",
   "metadata": {},
   "outputs": [
    {
     "data": {
      "text/plain": [
       "0    540\n",
       "1    520\n",
       "Name: Outreach Program, dtype: int64"
      ]
     },
     "execution_count": 781,
     "metadata": {},
     "output_type": "execute_result"
    }
   ],
   "source": [
    "df['Outreach Program'].value_counts()"
   ]
  },
  {
   "cell_type": "code",
   "execution_count": 782,
   "id": "089db113",
   "metadata": {},
   "outputs": [
    {
     "data": {
      "text/plain": [
       "0    540\n",
       "1    520\n",
       "Name: Celebration, dtype: int64"
      ]
     },
     "execution_count": 782,
     "metadata": {},
     "output_type": "execute_result"
    }
   ],
   "source": [
    "df['Celebration'].value_counts()"
   ]
  },
  {
   "cell_type": "code",
   "execution_count": 783,
   "id": "64ee0af9",
   "metadata": {},
   "outputs": [
    {
     "data": {
      "text/plain": [
       "0    540\n",
       "1    520\n",
       "Name: Love Feast, dtype: int64"
      ]
     },
     "execution_count": 783,
     "metadata": {},
     "output_type": "execute_result"
    }
   ],
   "source": [
    "df['Love Feast'].value_counts()"
   ]
  },
  {
   "cell_type": "code",
   "execution_count": 784,
   "id": "44e8ac00",
   "metadata": {},
   "outputs": [
    {
     "data": {
      "text/plain": [
       "2    580\n",
       "1    480\n",
       "Name: Weather Condition, dtype: int64"
      ]
     },
     "execution_count": 784,
     "metadata": {},
     "output_type": "execute_result"
    }
   ],
   "source": [
    "df['Weather Condition'].value_counts()"
   ]
  },
  {
   "cell_type": "code",
   "execution_count": 785,
   "id": "56397b6b",
   "metadata": {},
   "outputs": [
    {
     "data": {
      "text/plain": [
       "0    530\n",
       "1    530\n",
       "Name: Attendance, dtype: int64"
      ]
     },
     "execution_count": 785,
     "metadata": {},
     "output_type": "execute_result"
    }
   ],
   "source": [
    "df['Attendance'].value_counts()"
   ]
  },
  {
   "cell_type": "code",
   "execution_count": 786,
   "id": "e6e28d6e",
   "metadata": {},
   "outputs": [
    {
     "data": {
      "text/plain": [
       "Index(['S/N', 'Member ID', 'Group ID', 'Church ID', 'PCF ID', 'Cell ID',\n",
       "       'Department ID', 'First Name', 'Middle Name', 'Last Name', 'Gender',\n",
       "       'Mobile 1', 'Mobile 2', 'Email', 'Profession', 'Address', 'Location',\n",
       "       'Entry Date', 'Weather Condition', 'Service Date', 'Service Day',\n",
       "       'Service Type', 'Service Time', 'Public Holiday', 'SMS Notification',\n",
       "       'Email Notification', 'SMS Reminder', 'Email Reminder',\n",
       "       'Free Transportation', 'External Speaker', 'Church Venue',\n",
       "       'Outreach Program', 'Celebration', 'Love Feast', 'Attendance'],\n",
       "      dtype='object')"
      ]
     },
     "execution_count": 786,
     "metadata": {},
     "output_type": "execute_result"
    }
   ],
   "source": [
    "df.columns"
   ]
  },
  {
   "cell_type": "code",
   "execution_count": 787,
   "id": "a618a8af",
   "metadata": {},
   "outputs": [
    {
     "name": "stdout",
     "output_type": "stream",
     "text": [
      "{'Gender': {'Female': 0, 'Male': 1}}\n"
     ]
    }
   ],
   "source": [
    "category_col =['Gender'] \n",
    "labelEncoder = preprocessing.LabelEncoder()\n",
    "  \n",
    "mapping_dict ={}\n",
    "for col in category_col:\n",
    "    df[col] = labelEncoder.fit_transform(df[col])\n",
    "  \n",
    "    le_name_mapping = dict(zip(labelEncoder.classes_,\n",
    "                        labelEncoder.transform(labelEncoder.classes_)))\n",
    "  \n",
    "    mapping_dict[col]= le_name_mapping\n",
    "print(mapping_dict)"
   ]
  },
  {
   "cell_type": "code",
   "execution_count": 788,
   "id": "fe1f0142",
   "metadata": {},
   "outputs": [
    {
     "data": {
      "text/plain": [
       "(1060, 35)"
      ]
     },
     "execution_count": 788,
     "metadata": {},
     "output_type": "execute_result"
    }
   ],
   "source": [
    "df.shape"
   ]
  },
  {
   "cell_type": "code",
   "execution_count": 789,
   "id": "1b0d9d64",
   "metadata": {},
   "outputs": [
    {
     "data": {
      "text/plain": [
       "0       0\n",
       "1       1\n",
       "2       0\n",
       "3       0\n",
       "4       0\n",
       "       ..\n",
       "1055    1\n",
       "1056    1\n",
       "1057    1\n",
       "1058    1\n",
       "1059    1\n",
       "Name: Gender, Length: 1060, dtype: int32"
      ]
     },
     "execution_count": 789,
     "metadata": {},
     "output_type": "execute_result"
    }
   ],
   "source": [
    "df[\"Gender\"]"
   ]
  },
  {
   "cell_type": "code",
   "execution_count": 790,
   "id": "1dd1e44a",
   "metadata": {},
   "outputs": [],
   "source": [
    "from sklearn.model_selection import train_test_split\n",
    "from sklearn.linear_model import LogisticRegression\n",
    "from sklearn.metrics import accuracy_score, confusion_matrix, roc_curve, roc_auc_score\n",
    "import matplotlib.pyplot as plt\n",
    "import seaborn as sns\n",
    "import pickle"
   ]
  },
  {
   "cell_type": "code",
   "execution_count": 791,
   "id": "66d85b15",
   "metadata": {},
   "outputs": [
    {
     "data": {
      "text/plain": [
       "Index(['S/N', 'Member ID', 'Group ID', 'Church ID', 'PCF ID', 'Cell ID',\n",
       "       'Department ID', 'First Name', 'Middle Name', 'Last Name', 'Gender',\n",
       "       'Mobile 1', 'Mobile 2', 'Email', 'Profession', 'Address', 'Location',\n",
       "       'Entry Date', 'Weather Condition', 'Service Date', 'Service Day',\n",
       "       'Service Type', 'Service Time', 'Public Holiday', 'SMS Notification',\n",
       "       'Email Notification', 'SMS Reminder', 'Email Reminder',\n",
       "       'Free Transportation', 'External Speaker', 'Church Venue',\n",
       "       'Outreach Program', 'Celebration', 'Love Feast'],\n",
       "      dtype='object')"
      ]
     },
     "execution_count": 791,
     "metadata": {},
     "output_type": "execute_result"
    }
   ],
   "source": [
    "X = df[['S/N', 'Member ID', 'Group ID', 'Church ID', 'PCF ID', 'Cell ID',\n",
    "       'Department ID', 'First Name', 'Middle Name', 'Last Name', 'Gender',\n",
    "       'Mobile 1', 'Mobile 2', 'Email', 'Profession', 'Address', 'Location',\n",
    "       'Entry Date', 'Weather Condition', 'Service Date', 'Service Day',\n",
    "       'Service Type', 'Service Time', 'Public Holiday', 'SMS Notification',\n",
    "       'Email Notification', 'SMS Reminder', 'Email Reminder',\n",
    "       'Free Transportation', 'External Speaker', 'Church Venue',\n",
    "       'Outreach Program', 'Celebration', 'Love Feast']]\n",
    "y = df[\"Attendance\"]\n",
    "\n",
    "X.columns"
   ]
  },
  {
   "cell_type": "code",
   "execution_count": 792,
   "id": "4d625f11",
   "metadata": {},
   "outputs": [],
   "source": [
    "X_train, X_test, y_train, y_test = train_test_split(\n",
    "           X, y, test_size = 0.3, random_state = 100)\n",
    "\n",
    "  \n",
    "X_train_data = X_train.drop(['S/N', 'Member ID', 'Group ID', 'Church ID', 'PCF ID', 'Cell ID',\n",
    "       'Department ID', 'First Name', 'Middle Name', 'Last Name',\n",
    "       'Mobile 1', 'Mobile 2', 'Email', 'Profession', 'Address', 'Location',\n",
    "       'Entry Date','Service Type','Service Date'], axis=1).copy()\n",
    "\n",
    "X_test_data = X_test.drop(['S/N', 'Member ID', 'Group ID', 'Church ID', 'PCF ID', 'Cell ID',\n",
    "       'Department ID', 'First Name', 'Middle Name', 'Last Name',\n",
    "       'Mobile 1', 'Mobile 2', 'Email', 'Profession', 'Address', 'Location',\n",
    "       'Entry Date','Service Type','Service Date'], axis=1).copy()"
   ]
  },
  {
   "cell_type": "code",
   "execution_count": 793,
   "id": "7af59f16",
   "metadata": {},
   "outputs": [],
   "source": [
    "lr = LogisticRegression()\n",
    "\n",
    "lr.fit(X_train_data, y_train)\n",
    "y_pred_proba = lr.predict_proba(X_test_data)[:, 1]"
   ]
  },
  {
   "cell_type": "code",
   "execution_count": 794,
   "id": "11428150",
   "metadata": {},
   "outputs": [],
   "source": [
    "y_pred = lr.predict(X_test_data)"
   ]
  },
  {
   "cell_type": "code",
   "execution_count": 795,
   "id": "20ebe759",
   "metadata": {},
   "outputs": [
    {
     "data": {
      "text/plain": [
       "Index(['S/N', 'Member ID', 'Group ID', 'Church ID', 'PCF ID', 'Cell ID',\n",
       "       'Department ID', 'First Name', 'Middle Name', 'Last Name', 'Gender',\n",
       "       'Mobile 1', 'Mobile 2', 'Email', 'Profession', 'Address', 'Location',\n",
       "       'Entry Date', 'Weather Condition', 'Service Date', 'Service Day',\n",
       "       'Service Type', 'Service Time', 'Public Holiday', 'SMS Notification',\n",
       "       'Email Notification', 'SMS Reminder', 'Email Reminder',\n",
       "       'Free Transportation', 'External Speaker', 'Church Venue',\n",
       "       'Outreach Program', 'Celebration', 'Love Feast'],\n",
       "      dtype='object')"
      ]
     },
     "execution_count": 795,
     "metadata": {},
     "output_type": "execute_result"
    }
   ],
   "source": [
    "X_test.columns"
   ]
  },
  {
   "cell_type": "code",
   "execution_count": 796,
   "id": "90291ad9",
   "metadata": {},
   "outputs": [],
   "source": [
    "pred_cols_proba = pd.DataFrame({\n",
    "        \"Member ID\": X_test[\"Member ID\"],\n",
    "        \"Group ID\": X_test[\"Group ID\"],\n",
    "        \"Church ID\": X_test[\"Church ID\"],\n",
    "        \"PCF ID\": X_test[\"PCF ID\"],\n",
    "        \"Cell ID\": X_test[\"Cell ID\"],\n",
    "        \"Department ID\": X_test[\"Department ID\"],\n",
    "        \"First Name\": X_test[\"First Name\"],\n",
    "        \"Last Name\": X_test[\"Last Name\"],\n",
    "        \"Attendance\": y_pred_proba\n",
    "    })"
   ]
  },
  {
   "cell_type": "code",
   "execution_count": 797,
   "id": "15814eba",
   "metadata": {},
   "outputs": [
    {
     "data": {
      "text/html": [
       "<div>\n",
       "<style scoped>\n",
       "    .dataframe tbody tr th:only-of-type {\n",
       "        vertical-align: middle;\n",
       "    }\n",
       "\n",
       "    .dataframe tbody tr th {\n",
       "        vertical-align: top;\n",
       "    }\n",
       "\n",
       "    .dataframe thead th {\n",
       "        text-align: right;\n",
       "    }\n",
       "</style>\n",
       "<table border=\"1\" class=\"dataframe\">\n",
       "  <thead>\n",
       "    <tr style=\"text-align: right;\">\n",
       "      <th></th>\n",
       "      <th>Member ID</th>\n",
       "      <th>Group ID</th>\n",
       "      <th>Church ID</th>\n",
       "      <th>PCF ID</th>\n",
       "      <th>Cell ID</th>\n",
       "      <th>Department ID</th>\n",
       "      <th>First Name</th>\n",
       "      <th>Last Name</th>\n",
       "      <th>Attendance</th>\n",
       "    </tr>\n",
       "  </thead>\n",
       "  <tbody>\n",
       "    <tr>\n",
       "      <th>101</th>\n",
       "      <td>M002</td>\n",
       "      <td>G002</td>\n",
       "      <td>CH002</td>\n",
       "      <td>PCF002</td>\n",
       "      <td>C002</td>\n",
       "      <td>D002</td>\n",
       "      <td>Olaide</td>\n",
       "      <td>Agbaje</td>\n",
       "      <td>0.546266</td>\n",
       "    </tr>\n",
       "    <tr>\n",
       "      <th>552</th>\n",
       "      <td>M013</td>\n",
       "      <td>G013</td>\n",
       "      <td>CH013</td>\n",
       "      <td>PCF013</td>\n",
       "      <td>C013</td>\n",
       "      <td>D013</td>\n",
       "      <td>Charles</td>\n",
       "      <td>Udeh</td>\n",
       "      <td>0.546266</td>\n",
       "    </tr>\n",
       "    <tr>\n",
       "      <th>459</th>\n",
       "      <td>M020</td>\n",
       "      <td>G020</td>\n",
       "      <td>CH020</td>\n",
       "      <td>PCF020</td>\n",
       "      <td>C020</td>\n",
       "      <td>D020</td>\n",
       "      <td>Jesse</td>\n",
       "      <td>Omoko</td>\n",
       "      <td>0.400779</td>\n",
       "    </tr>\n",
       "    <tr>\n",
       "      <th>924</th>\n",
       "      <td>M005</td>\n",
       "      <td>G005</td>\n",
       "      <td>CH005</td>\n",
       "      <td>PCF005</td>\n",
       "      <td>C005</td>\n",
       "      <td>D005</td>\n",
       "      <td>Onome</td>\n",
       "      <td>Bode</td>\n",
       "      <td>0.465701</td>\n",
       "    </tr>\n",
       "    <tr>\n",
       "      <th>342</th>\n",
       "      <td>M003</td>\n",
       "      <td>G003</td>\n",
       "      <td>CH003</td>\n",
       "      <td>PCF003</td>\n",
       "      <td>C003</td>\n",
       "      <td>D003</td>\n",
       "      <td>Funmilayo</td>\n",
       "      <td>Onu</td>\n",
       "      <td>0.402419</td>\n",
       "    </tr>\n",
       "    <tr>\n",
       "      <th>...</th>\n",
       "      <td>...</td>\n",
       "      <td>...</td>\n",
       "      <td>...</td>\n",
       "      <td>...</td>\n",
       "      <td>...</td>\n",
       "      <td>...</td>\n",
       "      <td>...</td>\n",
       "      <td>...</td>\n",
       "      <td>...</td>\n",
       "    </tr>\n",
       "    <tr>\n",
       "      <th>23</th>\n",
       "      <td>M004</td>\n",
       "      <td>G004</td>\n",
       "      <td>CH004</td>\n",
       "      <td>PCF004</td>\n",
       "      <td>C004</td>\n",
       "      <td>D004</td>\n",
       "      <td>Makinwa</td>\n",
       "      <td>Okonkwo</td>\n",
       "      <td>0.519341</td>\n",
       "    </tr>\n",
       "    <tr>\n",
       "      <th>1004</th>\n",
       "      <td>M005</td>\n",
       "      <td>G005</td>\n",
       "      <td>CH005</td>\n",
       "      <td>PCF005</td>\n",
       "      <td>C005</td>\n",
       "      <td>D005</td>\n",
       "      <td>Onome</td>\n",
       "      <td>Bode</td>\n",
       "      <td>0.469232</td>\n",
       "    </tr>\n",
       "    <tr>\n",
       "      <th>109</th>\n",
       "      <td>M010</td>\n",
       "      <td>G010</td>\n",
       "      <td>CH010</td>\n",
       "      <td>PCF010</td>\n",
       "      <td>C010</td>\n",
       "      <td>D010</td>\n",
       "      <td>Oshoriame</td>\n",
       "      <td>Olumese</td>\n",
       "      <td>0.519341</td>\n",
       "    </tr>\n",
       "    <tr>\n",
       "      <th>450</th>\n",
       "      <td>M011</td>\n",
       "      <td>G011</td>\n",
       "      <td>CH011</td>\n",
       "      <td>PCF011</td>\n",
       "      <td>C011</td>\n",
       "      <td>D011</td>\n",
       "      <td>Osasenega</td>\n",
       "      <td>Usoh</td>\n",
       "      <td>0.400779</td>\n",
       "    </tr>\n",
       "    <tr>\n",
       "      <th>483</th>\n",
       "      <td>M004</td>\n",
       "      <td>G004</td>\n",
       "      <td>CH004</td>\n",
       "      <td>PCF004</td>\n",
       "      <td>C004</td>\n",
       "      <td>D004</td>\n",
       "      <td>Makinwa</td>\n",
       "      <td>Okonkwo</td>\n",
       "      <td>0.415926</td>\n",
       "    </tr>\n",
       "  </tbody>\n",
       "</table>\n",
       "<p>318 rows × 9 columns</p>\n",
       "</div>"
      ],
      "text/plain": [
       "     Member ID Group ID Church ID  PCF ID Cell ID Department ID First Name  \\\n",
       "101       M002     G002     CH002  PCF002    C002          D002     Olaide   \n",
       "552       M013     G013     CH013  PCF013    C013          D013    Charles   \n",
       "459       M020     G020     CH020  PCF020    C020          D020      Jesse   \n",
       "924       M005     G005     CH005  PCF005    C005          D005      Onome   \n",
       "342       M003     G003     CH003  PCF003    C003          D003  Funmilayo   \n",
       "...        ...      ...       ...     ...     ...           ...        ...   \n",
       "23        M004     G004     CH004  PCF004    C004          D004    Makinwa   \n",
       "1004      M005     G005     CH005  PCF005    C005          D005      Onome   \n",
       "109       M010     G010     CH010  PCF010    C010          D010  Oshoriame   \n",
       "450       M011     G011     CH011  PCF011    C011          D011  Osasenega   \n",
       "483       M004     G004     CH004  PCF004    C004          D004    Makinwa   \n",
       "\n",
       "     Last Name  Attendance  \n",
       "101     Agbaje    0.546266  \n",
       "552       Udeh    0.546266  \n",
       "459      Omoko    0.400779  \n",
       "924       Bode    0.465701  \n",
       "342        Onu    0.402419  \n",
       "...        ...         ...  \n",
       "23     Okonkwo    0.519341  \n",
       "1004      Bode    0.469232  \n",
       "109    Olumese    0.519341  \n",
       "450       Usoh    0.400779  \n",
       "483    Okonkwo    0.415926  \n",
       "\n",
       "[318 rows x 9 columns]"
      ]
     },
     "execution_count": 797,
     "metadata": {},
     "output_type": "execute_result"
    }
   ],
   "source": [
    "pred_cols_proba"
   ]
  },
  {
   "cell_type": "code",
   "execution_count": 798,
   "id": "1d3f6328",
   "metadata": {},
   "outputs": [],
   "source": [
    "pred_cols = pd.DataFrame({\n",
    "        \"Member ID\": X_test[\"Member ID\"],\n",
    "        \"Group ID\": X_test[\"Group ID\"],\n",
    "        \"Church ID\": X_test[\"Church ID\"],\n",
    "        \"PCF ID\": X_test[\"PCF ID\"],\n",
    "        \"Cell ID\": X_test[\"Cell ID\"],\n",
    "        \"Department ID\": X_test[\"Department ID\"],\n",
    "        \"First Name\": X_test[\"First Name\"],\n",
    "        \"Last Name\": X_test[\"Last Name\"],\n",
    "        \"Attendance\":y_test,\n",
    "        \"Attendance_Pred\": y_pred\n",
    "    })"
   ]
  },
  {
   "cell_type": "code",
   "execution_count": 799,
   "id": "a77ba961",
   "metadata": {},
   "outputs": [
    {
     "data": {
      "text/html": [
       "<div>\n",
       "<style scoped>\n",
       "    .dataframe tbody tr th:only-of-type {\n",
       "        vertical-align: middle;\n",
       "    }\n",
       "\n",
       "    .dataframe tbody tr th {\n",
       "        vertical-align: top;\n",
       "    }\n",
       "\n",
       "    .dataframe thead th {\n",
       "        text-align: right;\n",
       "    }\n",
       "</style>\n",
       "<table border=\"1\" class=\"dataframe\">\n",
       "  <thead>\n",
       "    <tr style=\"text-align: right;\">\n",
       "      <th></th>\n",
       "      <th>Member ID</th>\n",
       "      <th>Group ID</th>\n",
       "      <th>Church ID</th>\n",
       "      <th>PCF ID</th>\n",
       "      <th>Cell ID</th>\n",
       "      <th>Department ID</th>\n",
       "      <th>First Name</th>\n",
       "      <th>Last Name</th>\n",
       "      <th>Attendance</th>\n",
       "      <th>Attendance_Pred</th>\n",
       "    </tr>\n",
       "  </thead>\n",
       "  <tbody>\n",
       "    <tr>\n",
       "      <th>101</th>\n",
       "      <td>M002</td>\n",
       "      <td>G002</td>\n",
       "      <td>CH002</td>\n",
       "      <td>PCF002</td>\n",
       "      <td>C002</td>\n",
       "      <td>D002</td>\n",
       "      <td>Olaide</td>\n",
       "      <td>Agbaje</td>\n",
       "      <td>0</td>\n",
       "      <td>1</td>\n",
       "    </tr>\n",
       "    <tr>\n",
       "      <th>552</th>\n",
       "      <td>M013</td>\n",
       "      <td>G013</td>\n",
       "      <td>CH013</td>\n",
       "      <td>PCF013</td>\n",
       "      <td>C013</td>\n",
       "      <td>D013</td>\n",
       "      <td>Charles</td>\n",
       "      <td>Udeh</td>\n",
       "      <td>0</td>\n",
       "      <td>1</td>\n",
       "    </tr>\n",
       "    <tr>\n",
       "      <th>459</th>\n",
       "      <td>M020</td>\n",
       "      <td>G020</td>\n",
       "      <td>CH020</td>\n",
       "      <td>PCF020</td>\n",
       "      <td>C020</td>\n",
       "      <td>D020</td>\n",
       "      <td>Jesse</td>\n",
       "      <td>Omoko</td>\n",
       "      <td>0</td>\n",
       "      <td>0</td>\n",
       "    </tr>\n",
       "    <tr>\n",
       "      <th>924</th>\n",
       "      <td>M005</td>\n",
       "      <td>G005</td>\n",
       "      <td>CH005</td>\n",
       "      <td>PCF005</td>\n",
       "      <td>C005</td>\n",
       "      <td>D005</td>\n",
       "      <td>Onome</td>\n",
       "      <td>Bode</td>\n",
       "      <td>0</td>\n",
       "      <td>0</td>\n",
       "    </tr>\n",
       "    <tr>\n",
       "      <th>342</th>\n",
       "      <td>M003</td>\n",
       "      <td>G003</td>\n",
       "      <td>CH003</td>\n",
       "      <td>PCF003</td>\n",
       "      <td>C003</td>\n",
       "      <td>D003</td>\n",
       "      <td>Funmilayo</td>\n",
       "      <td>Onu</td>\n",
       "      <td>1</td>\n",
       "      <td>0</td>\n",
       "    </tr>\n",
       "    <tr>\n",
       "      <th>...</th>\n",
       "      <td>...</td>\n",
       "      <td>...</td>\n",
       "      <td>...</td>\n",
       "      <td>...</td>\n",
       "      <td>...</td>\n",
       "      <td>...</td>\n",
       "      <td>...</td>\n",
       "      <td>...</td>\n",
       "      <td>...</td>\n",
       "      <td>...</td>\n",
       "    </tr>\n",
       "    <tr>\n",
       "      <th>23</th>\n",
       "      <td>M004</td>\n",
       "      <td>G004</td>\n",
       "      <td>CH004</td>\n",
       "      <td>PCF004</td>\n",
       "      <td>C004</td>\n",
       "      <td>D004</td>\n",
       "      <td>Makinwa</td>\n",
       "      <td>Okonkwo</td>\n",
       "      <td>1</td>\n",
       "      <td>1</td>\n",
       "    </tr>\n",
       "    <tr>\n",
       "      <th>1004</th>\n",
       "      <td>M005</td>\n",
       "      <td>G005</td>\n",
       "      <td>CH005</td>\n",
       "      <td>PCF005</td>\n",
       "      <td>C005</td>\n",
       "      <td>D005</td>\n",
       "      <td>Onome</td>\n",
       "      <td>Bode</td>\n",
       "      <td>1</td>\n",
       "      <td>0</td>\n",
       "    </tr>\n",
       "    <tr>\n",
       "      <th>109</th>\n",
       "      <td>M010</td>\n",
       "      <td>G010</td>\n",
       "      <td>CH010</td>\n",
       "      <td>PCF010</td>\n",
       "      <td>C010</td>\n",
       "      <td>D010</td>\n",
       "      <td>Oshoriame</td>\n",
       "      <td>Olumese</td>\n",
       "      <td>0</td>\n",
       "      <td>1</td>\n",
       "    </tr>\n",
       "    <tr>\n",
       "      <th>450</th>\n",
       "      <td>M011</td>\n",
       "      <td>G011</td>\n",
       "      <td>CH011</td>\n",
       "      <td>PCF011</td>\n",
       "      <td>C011</td>\n",
       "      <td>D011</td>\n",
       "      <td>Osasenega</td>\n",
       "      <td>Usoh</td>\n",
       "      <td>0</td>\n",
       "      <td>0</td>\n",
       "    </tr>\n",
       "    <tr>\n",
       "      <th>483</th>\n",
       "      <td>M004</td>\n",
       "      <td>G004</td>\n",
       "      <td>CH004</td>\n",
       "      <td>PCF004</td>\n",
       "      <td>C004</td>\n",
       "      <td>D004</td>\n",
       "      <td>Makinwa</td>\n",
       "      <td>Okonkwo</td>\n",
       "      <td>1</td>\n",
       "      <td>0</td>\n",
       "    </tr>\n",
       "  </tbody>\n",
       "</table>\n",
       "<p>318 rows × 10 columns</p>\n",
       "</div>"
      ],
      "text/plain": [
       "     Member ID Group ID Church ID  PCF ID Cell ID Department ID First Name  \\\n",
       "101       M002     G002     CH002  PCF002    C002          D002     Olaide   \n",
       "552       M013     G013     CH013  PCF013    C013          D013    Charles   \n",
       "459       M020     G020     CH020  PCF020    C020          D020      Jesse   \n",
       "924       M005     G005     CH005  PCF005    C005          D005      Onome   \n",
       "342       M003     G003     CH003  PCF003    C003          D003  Funmilayo   \n",
       "...        ...      ...       ...     ...     ...           ...        ...   \n",
       "23        M004     G004     CH004  PCF004    C004          D004    Makinwa   \n",
       "1004      M005     G005     CH005  PCF005    C005          D005      Onome   \n",
       "109       M010     G010     CH010  PCF010    C010          D010  Oshoriame   \n",
       "450       M011     G011     CH011  PCF011    C011          D011  Osasenega   \n",
       "483       M004     G004     CH004  PCF004    C004          D004    Makinwa   \n",
       "\n",
       "     Last Name  Attendance  Attendance_Pred  \n",
       "101     Agbaje           0                1  \n",
       "552       Udeh           0                1  \n",
       "459      Omoko           0                0  \n",
       "924       Bode           0                0  \n",
       "342        Onu           1                0  \n",
       "...        ...         ...              ...  \n",
       "23     Okonkwo           1                1  \n",
       "1004      Bode           1                0  \n",
       "109    Olumese           0                1  \n",
       "450       Usoh           0                0  \n",
       "483    Okonkwo           1                0  \n",
       "\n",
       "[318 rows x 10 columns]"
      ]
     },
     "execution_count": 799,
     "metadata": {},
     "output_type": "execute_result"
    }
   ],
   "source": [
    "pred_cols"
   ]
  },
  {
   "cell_type": "code",
   "execution_count": 800,
   "id": "6f430998",
   "metadata": {},
   "outputs": [
    {
     "data": {
      "text/plain": [
       "array([[85, 68],\n",
       "       [79, 86]], dtype=int64)"
      ]
     },
     "execution_count": 800,
     "metadata": {},
     "output_type": "execute_result"
    }
   ],
   "source": [
    "cnf_matrix = confusion_matrix(y_test, y_pred)\n",
    "cnf_matrix"
   ]
  },
  {
   "cell_type": "code",
   "execution_count": 801,
   "id": "bbf11cea",
   "metadata": {},
   "outputs": [
    {
     "data": {
      "image/png": "[encoded data removed]",
      "text/plain": [
       "<Figure size 432x288 with 2 Axes>"
      ]
     },
     "metadata": {
      "needs_background": "light"
     },
     "output_type": "display_data"
    }
   ],
   "source": [
    "confusion_matrix_df = pd.crosstab(pred_cols['Attendance'], pred_cols['Attendance_Pred'], rownames=['Actual'], colnames=['Predicted'])\n",
    "\n",
    "sns.heatmap(confusion_matrix_df, annot=True)\n",
    "plt.show()"
   ]
  },
  {
   "cell_type": "code",
   "execution_count": 802,
   "id": "c693483b",
   "metadata": {},
   "outputs": [
    {
     "name": "stdout",
     "output_type": "stream",
     "text": [
      "Accuracy: 0.5377358490566038\n"
     ]
    }
   ],
   "source": [
    "print(\"Accuracy:\",accuracy_score(y_test, y_pred))"
   ]
  },
  {
   "cell_type": "code",
   "execution_count": 803,
   "id": "89c9c792",
   "metadata": {},
   "outputs": [
    {
     "data": {
      "image/png": "[encoded data removed]",
      "text/plain": [
       "<Figure size 432x288 with 1 Axes>"
      ]
     },
     "metadata": {
      "needs_background": "light"
     },
     "output_type": "display_data"
    }
   ],
   "source": [
    "#define metrics\n",
    "y_pred_proba = lr.predict_proba(X_test_data)[:,1]\n",
    "fpr, tpr, _ = roc_curve(y_test,  y_pred_proba)\n",
    "auc = roc_auc_score(y_test, y_pred_proba)\n",
    "\n",
    "#create ROC curve\n",
    "plt.plot(fpr,tpr,label=\"AUC=\"+str(auc))\n",
    "plt.legend(loc=4)\n",
    "plt.show()"
   ]
  },
  {
   "cell_type": "code",
   "execution_count": 804,
   "id": "575d887d",
   "metadata": {},
   "outputs": [],
   "source": [
    "pickle.dump(lr, open('lr.pkl','wb'))"
   ]
  },
  {
   "cell_type": "code",
   "execution_count": 805,
   "id": "892bea80",
   "metadata": {},
   "outputs": [
    {
     "data": {
      "text/plain": [
       "Index(['Gender', 'Weather Condition', 'Service Day', 'Service Time',\n",
       "       'Public Holiday', 'SMS Notification', 'Email Notification',\n",
       "       'SMS Reminder', 'Email Reminder', 'Free Transportation',\n",
       "       'External Speaker', 'Church Venue', 'Outreach Program', 'Celebration',\n",
       "       'Love Feast'],\n",
       "      dtype='object')"
      ]
     },
     "execution_count": 805,
     "metadata": {},
     "output_type": "execute_result"
    }
   ],
   "source": [
    "X_test_data.columns"
   ]
  },
  {
   "cell_type": "code",
   "execution_count": null,
   "id": "3680e995",
   "metadata": {},
   "outputs": [],
   "source": []
  }
 ],
 "metadata": {
  "kernelspec": {
   "display_name": "Python 3",
   "language": "python",
   "name": "python3"
  },
  "language_info": {
   "codemirror_mode": {
    "name": "ipython",
    "version": 3
   },
   "file_extension": ".py",
   "mimetype": "text/x-python",
   "name": "python",
   "nbconvert_exporter": "python",
   "pygments_lexer": "ipython3",
   "version": "3.8.8"
  }
 },
 "nbformat": 4,
 "nbformat_minor": 5
}
