{
 "cells": [
  {
   "cell_type": "code",
   "execution_count": 8,
   "id": "274fe8c1",
   "metadata": {},
   "outputs": [],
   "source": [
    "# importing the dataset\n",
    "import pandas as pd\n",
    "import numpy as np\n",
    "from sklearn import preprocessing"
   ]
  },
  {
   "cell_type": "code",
   "execution_count": 9,
   "id": "f5a68466",
   "metadata": {},
   "outputs": [
    {
     "data": {
      "text/html": [
       "<div>\n",
       "<style scoped>\n",
       "    .dataframe tbody tr th:only-of-type {\n",
       "        vertical-align: middle;\n",
       "    }\n",
       "\n",
       "    .dataframe tbody tr th {\n",
       "        vertical-align: top;\n",
       "    }\n",
       "\n",
       "    .dataframe thead th {\n",
       "        text-align: right;\n",
       "    }\n",
       "</style>\n",
       "<table border=\"1\" class=\"dataframe\">\n",
       "  <thead>\n",
       "    <tr style=\"text-align: right;\">\n",
       "      <th></th>\n",
       "      <th>S/N</th>\n",
       "      <th>Member ID</th>\n",
       "      <th>Group ID</th>\n",
       "      <th>Church ID</th>\n",
       "      <th>PCF ID</th>\n",
       "      <th>Cell ID</th>\n",
       "      <th>Department ID</th>\n",
       "      <th>First Name</th>\n",
       "      <th>Middle Name</th>\n",
       "      <th>Last Name</th>\n",
       "      <th>...</th>\n",
       "      <th>Email Notification</th>\n",
       "      <th>SMS Reminder</th>\n",
       "      <th>Email Reminder</th>\n",
       "      <th>Free Transportation</th>\n",
       "      <th>External Speaker</th>\n",
       "      <th>Church Venue</th>\n",
       "      <th>Outreach Program</th>\n",
       "      <th>Celebration</th>\n",
       "      <th>Love Feast</th>\n",
       "      <th>Attendance</th>\n",
       "    </tr>\n",
       "  </thead>\n",
       "  <tbody>\n",
       "    <tr>\n",
       "      <th>0</th>\n",
       "      <td>1</td>\n",
       "      <td>M001</td>\n",
       "      <td>G001</td>\n",
       "      <td>CH001</td>\n",
       "      <td>PCF001</td>\n",
       "      <td>C001</td>\n",
       "      <td>D001</td>\n",
       "      <td>Omolara</td>\n",
       "      <td>Sandra</td>\n",
       "      <td>Adeniyi</td>\n",
       "      <td>...</td>\n",
       "      <td>0</td>\n",
       "      <td>0</td>\n",
       "      <td>1</td>\n",
       "      <td>1</td>\n",
       "      <td>1</td>\n",
       "      <td>0</td>\n",
       "      <td>0</td>\n",
       "      <td>1</td>\n",
       "      <td>1</td>\n",
       "      <td>0</td>\n",
       "    </tr>\n",
       "    <tr>\n",
       "      <th>1</th>\n",
       "      <td>2</td>\n",
       "      <td>M002</td>\n",
       "      <td>G002</td>\n",
       "      <td>CH002</td>\n",
       "      <td>PCF002</td>\n",
       "      <td>C002</td>\n",
       "      <td>D002</td>\n",
       "      <td>Olaide</td>\n",
       "      <td>Oluwanisola</td>\n",
       "      <td>Agbaje</td>\n",
       "      <td>...</td>\n",
       "      <td>1</td>\n",
       "      <td>1</td>\n",
       "      <td>1</td>\n",
       "      <td>1</td>\n",
       "      <td>1</td>\n",
       "      <td>0</td>\n",
       "      <td>1</td>\n",
       "      <td>1</td>\n",
       "      <td>0</td>\n",
       "      <td>1</td>\n",
       "    </tr>\n",
       "    <tr>\n",
       "      <th>2</th>\n",
       "      <td>3</td>\n",
       "      <td>M003</td>\n",
       "      <td>G003</td>\n",
       "      <td>CH003</td>\n",
       "      <td>PCF003</td>\n",
       "      <td>C003</td>\n",
       "      <td>D003</td>\n",
       "      <td>Funmilayo</td>\n",
       "      <td>Makuachukwu</td>\n",
       "      <td>Onu</td>\n",
       "      <td>...</td>\n",
       "      <td>0</td>\n",
       "      <td>0</td>\n",
       "      <td>0</td>\n",
       "      <td>0</td>\n",
       "      <td>0</td>\n",
       "      <td>1</td>\n",
       "      <td>1</td>\n",
       "      <td>0</td>\n",
       "      <td>1</td>\n",
       "      <td>0</td>\n",
       "    </tr>\n",
       "    <tr>\n",
       "      <th>3</th>\n",
       "      <td>4</td>\n",
       "      <td>M004</td>\n",
       "      <td>G004</td>\n",
       "      <td>CH004</td>\n",
       "      <td>PCF004</td>\n",
       "      <td>C004</td>\n",
       "      <td>D004</td>\n",
       "      <td>Makinwa</td>\n",
       "      <td>Hope</td>\n",
       "      <td>Okonkwo</td>\n",
       "      <td>...</td>\n",
       "      <td>0</td>\n",
       "      <td>0</td>\n",
       "      <td>0</td>\n",
       "      <td>1</td>\n",
       "      <td>1</td>\n",
       "      <td>1</td>\n",
       "      <td>0</td>\n",
       "      <td>0</td>\n",
       "      <td>0</td>\n",
       "      <td>1</td>\n",
       "    </tr>\n",
       "    <tr>\n",
       "      <th>4</th>\n",
       "      <td>5</td>\n",
       "      <td>M005</td>\n",
       "      <td>G005</td>\n",
       "      <td>CH005</td>\n",
       "      <td>PCF005</td>\n",
       "      <td>C005</td>\n",
       "      <td>D005</td>\n",
       "      <td>Onome</td>\n",
       "      <td>Olaoluwa</td>\n",
       "      <td>Bode</td>\n",
       "      <td>...</td>\n",
       "      <td>0</td>\n",
       "      <td>0</td>\n",
       "      <td>1</td>\n",
       "      <td>1</td>\n",
       "      <td>0</td>\n",
       "      <td>1</td>\n",
       "      <td>0</td>\n",
       "      <td>0</td>\n",
       "      <td>0</td>\n",
       "      <td>0</td>\n",
       "    </tr>\n",
       "  </tbody>\n",
       "</table>\n",
       "<p>5 rows × 35 columns</p>\n",
       "</div>"
      ],
      "text/plain": [
       "   S/N Member ID Group ID Church ID  PCF ID Cell ID Department ID First Name  \\\n",
       "0    1      M001     G001     CH001  PCF001    C001          D001    Omolara   \n",
       "1    2      M002     G002     CH002  PCF002    C002          D002     Olaide   \n",
       "2    3      M003     G003     CH003  PCF003    C003          D003  Funmilayo   \n",
       "3    4      M004     G004     CH004  PCF004    C004          D004    Makinwa   \n",
       "4    5      M005     G005     CH005  PCF005    C005          D005      Onome   \n",
       "\n",
       "   Middle Name Last Name  ... Email Notification  SMS Reminder  \\\n",
       "0       Sandra   Adeniyi  ...                  0             0   \n",
       "1  Oluwanisola    Agbaje  ...                  1             1   \n",
       "2  Makuachukwu       Onu  ...                  0             0   \n",
       "3         Hope   Okonkwo  ...                  0             0   \n",
       "4     Olaoluwa      Bode  ...                  0             0   \n",
       "\n",
       "   Email Reminder Free Transportation External Speaker Church Venue  \\\n",
       "0               1                   1                1            0   \n",
       "1               1                   1                1            0   \n",
       "2               0                   0                0            1   \n",
       "3               0                   1                1            1   \n",
       "4               1                   1                0            1   \n",
       "\n",
       "  Outreach Program Celebration  Love Feast Attendance  \n",
       "0                0           1           1          0  \n",
       "1                1           1           0          1  \n",
       "2                1           0           1          0  \n",
       "3                0           0           0          1  \n",
       "4                0           0           0          0  \n",
       "\n",
       "[5 rows x 35 columns]"
      ]
     },
     "execution_count": 9,
     "metadata": {},
     "output_type": "execute_result"
    }
   ],
   "source": [
    "df = pd.read_excel('Members table_Updated.xlsx') \n",
    "df[['Weather Condition','Public Holiday', 'SMS Notification',\n",
    "       'Email Notification', 'SMS Reminder', 'Email Reminder',\n",
    "       'Free Transportation', 'External Speaker', 'Church Venue',\n",
    "       'Outreach Program', 'Celebration', 'Love Feast', 'Attendance']] = df[['Weather Condition','Public Holiday', 'SMS Notification',\n",
    "       'Email Notification', 'SMS Reminder', 'Email Reminder',\n",
    "       'Free Transportation', 'External Speaker', 'Church Venue',\n",
    "       'Outreach Program', 'Celebration', 'Love Feast', 'Attendance']].round(decimals=0).astype(int)\n",
    "df[['Service Day','Service Time']] = df[['Service Day','Service Time']].astype(int)\n",
    "df.head()"
   ]
  },
  {
   "cell_type": "code",
   "execution_count": 6,
   "id": "e1a6ceec",
   "metadata": {},
   "outputs": [
    {
     "name": "stdout",
     "output_type": "stream",
     "text": [
      "<class 'pandas.core.frame.DataFrame'>\n",
      "RangeIndex: 320 entries, 0 to 319\n",
      "Data columns (total 35 columns):\n",
      " #   Column               Non-Null Count  Dtype         \n",
      "---  ------               --------------  -----         \n",
      " 0   S/N                  320 non-null    int64         \n",
      " 1   Member ID            320 non-null    object        \n",
      " 2   Group ID             320 non-null    object        \n",
      " 3   Church ID            320 non-null    object        \n",
      " 4   PCF ID               320 non-null    object        \n",
      " 5   Cell ID              320 non-null    object        \n",
      " 6   Department ID        320 non-null    object        \n",
      " 7   First Name           320 non-null    object        \n",
      " 8   Middle Name          320 non-null    object        \n",
      " 9   Last Name            320 non-null    object        \n",
      " 10  Gender               320 non-null    object        \n",
      " 11  Mobile 1             320 non-null    int64         \n",
      " 12  Mobile 2             320 non-null    int64         \n",
      " 13  Email                320 non-null    object        \n",
      " 14  Profession           320 non-null    object        \n",
      " 15  Address              320 non-null    object        \n",
      " 16  Location             320 non-null    object        \n",
      " 17  Entry Date           320 non-null    datetime64[ns]\n",
      " 18  Weather Condition    320 non-null    int32         \n",
      " 19  Service Date         320 non-null    datetime64[ns]\n",
      " 20  Service Day          320 non-null    int64         \n",
      " 21  Service Type         320 non-null    int64         \n",
      " 22  Service Time         320 non-null    int64         \n",
      " 23  Public Holiday       320 non-null    int32         \n",
      " 24  SMS Notification     320 non-null    int32         \n",
      " 25  Email Notification   320 non-null    int32         \n",
      " 26  SMS Reminder         320 non-null    int32         \n",
      " 27  Email Reminder       320 non-null    int32         \n",
      " 28  Free Transportation  320 non-null    int32         \n",
      " 29  External Speaker     320 non-null    int32         \n",
      " 30  Church Venue         320 non-null    int32         \n",
      " 31  Outreach Program     320 non-null    int32         \n",
      " 32  Celebration          320 non-null    int32         \n",
      " 33  Love Feast           320 non-null    int32         \n",
      " 34  Attendance           320 non-null    int32         \n",
      "dtypes: datetime64[ns](2), int32(13), int64(6), object(14)\n",
      "memory usage: 71.4+ KB\n"
     ]
    }
   ],
   "source": [
    "df.info()"
   ]
  },
  {
   "cell_type": "code",
   "execution_count": 7,
   "id": "f1d37d84",
   "metadata": {},
   "outputs": [
    {
     "data": {
      "text/plain": [
       "0    168\n",
       "1    152\n",
       "Name: Celebration, dtype: int64"
      ]
     },
     "execution_count": 7,
     "metadata": {},
     "output_type": "execute_result"
    }
   ],
   "source": [
    "df['Celebration'].value_counts()"
   ]
  },
  {
   "cell_type": "code",
   "execution_count": 273,
   "id": "66d85b15",
   "metadata": {},
   "outputs": [
    {
     "data": {
      "text/plain": [
       "Index(['Gender', 'Weather Condition', 'Service Day', 'Service Time',\n",
       "       'Public Holiday', 'SMS Notification', 'Email Notification',\n",
       "       'SMS Reminder', 'Email Reminder', 'Free Transportation',\n",
       "       'External Speaker', 'Church Venue', 'Outreach Program', 'Celebration',\n",
       "       'Love Feast', 'Attendance'],\n",
       "      dtype='object')"
      ]
     },
     "execution_count": 273,
     "metadata": {},
     "output_type": "execute_result"
    }
   ],
   "source": [
    "df = df.drop([\"S/N\", \"Member ID\",\"Service Type\", \"Group ID\", \"Church ID\", \"PCF ID\", \"Cell ID\", \"Department ID\", \"First Name\", \n",
    "              \"Middle Name\", \"Last Name\", \"Mobile 1\", \"Mobile 2\",\"Profession\",\"Email\", \"Address\", \"Location\", \n",
    "              \"Entry Date\", \"Service Date\"], axis = 1)\n",
    "df.columns"
   ]
  },
  {
   "cell_type": "code",
   "execution_count": 274,
   "id": "246335d3",
   "metadata": {},
   "outputs": [],
   "source": [
    "df.dropna(how='any', inplace = True) "
   ]
  },
  {
   "cell_type": "code",
   "execution_count": 275,
   "id": "0c643aaf",
   "metadata": {},
   "outputs": [
    {
     "data": {
      "text/plain": [
       "Gender                 0\n",
       "Weather Condition      0\n",
       "Service Day            0\n",
       "Service Time           0\n",
       "Public Holiday         0\n",
       "SMS Notification       0\n",
       "Email Notification     0\n",
       "SMS Reminder           0\n",
       "Email Reminder         0\n",
       "Free Transportation    0\n",
       "External Speaker       0\n",
       "Church Venue           0\n",
       "Outreach Program       0\n",
       "Celebration            0\n",
       "Love Feast             0\n",
       "Attendance             0\n",
       "dtype: int64"
      ]
     },
     "execution_count": 275,
     "metadata": {},
     "output_type": "execute_result"
    }
   ],
   "source": [
    "df.isnull().sum()"
   ]
  },
  {
   "cell_type": "code",
   "execution_count": 276,
   "id": "e99e1bbe",
   "metadata": {},
   "outputs": [
    {
     "data": {
      "text/plain": [
       "(320, 16)"
      ]
     },
     "execution_count": 276,
     "metadata": {},
     "output_type": "execute_result"
    }
   ],
   "source": [
    "df.shape"
   ]
  },
  {
   "cell_type": "code",
   "execution_count": 277,
   "id": "104dc440",
   "metadata": {},
   "outputs": [
    {
     "data": {
      "text/plain": [
       "Female    160\n",
       "Male      160\n",
       "Name: Gender, dtype: int64"
      ]
     },
     "execution_count": 277,
     "metadata": {},
     "output_type": "execute_result"
    }
   ],
   "source": [
    "df['Gender'].value_counts()"
   ]
  },
  {
   "cell_type": "code",
   "execution_count": 278,
   "id": "3843a320",
   "metadata": {},
   "outputs": [
    {
     "data": {
      "text/plain": [
       "3    53\n",
       "2    51\n",
       "5    48\n",
       "7    48\n",
       "1    47\n",
       "6    40\n",
       "4    33\n",
       "Name: Service Day, dtype: int64"
      ]
     },
     "execution_count": 278,
     "metadata": {},
     "output_type": "execute_result"
    }
   ],
   "source": [
    "df['Service Day'].value_counts()"
   ]
  },
  {
   "cell_type": "code",
   "execution_count": 279,
   "id": "fb7d24c6",
   "metadata": {},
   "outputs": [
    {
     "data": {
      "text/plain": [
       "3    110\n",
       "2    108\n",
       "1    102\n",
       "Name: Service Time, dtype: int64"
      ]
     },
     "execution_count": 279,
     "metadata": {},
     "output_type": "execute_result"
    }
   ],
   "source": [
    "df['Service Time'].value_counts()"
   ]
  },
  {
   "cell_type": "code",
   "execution_count": 280,
   "id": "ed67e55f",
   "metadata": {},
   "outputs": [
    {
     "data": {
      "text/plain": [
       "0    178\n",
       "1    142\n",
       "Name: Email Reminder, dtype: int64"
      ]
     },
     "execution_count": 280,
     "metadata": {},
     "output_type": "execute_result"
    }
   ],
   "source": [
    "df['Email Reminder'].value_counts()"
   ]
  },
  {
   "cell_type": "code",
   "execution_count": 281,
   "id": "9d05d58c",
   "metadata": {},
   "outputs": [
    {
     "data": {
      "text/plain": [
       "1    173\n",
       "0    147\n",
       "Name: SMS Notification, dtype: int64"
      ]
     },
     "execution_count": 281,
     "metadata": {},
     "output_type": "execute_result"
    }
   ],
   "source": [
    "df['SMS Notification'].value_counts()"
   ]
  },
  {
   "cell_type": "code",
   "execution_count": 282,
   "id": "831d445a",
   "metadata": {},
   "outputs": [
    {
     "data": {
      "text/plain": [
       "0    160\n",
       "1    160\n",
       "Name: Email Notification, dtype: int64"
      ]
     },
     "execution_count": 282,
     "metadata": {},
     "output_type": "execute_result"
    }
   ],
   "source": [
    "df['Email Notification'].value_counts()"
   ]
  },
  {
   "cell_type": "code",
   "execution_count": 283,
   "id": "3b49f784",
   "metadata": {},
   "outputs": [
    {
     "data": {
      "text/plain": [
       "1    163\n",
       "0    157\n",
       "Name: SMS Reminder, dtype: int64"
      ]
     },
     "execution_count": 283,
     "metadata": {},
     "output_type": "execute_result"
    }
   ],
   "source": [
    "df['SMS Reminder'].value_counts()"
   ]
  },
  {
   "cell_type": "code",
   "execution_count": 284,
   "id": "d1c388b8",
   "metadata": {},
   "outputs": [
    {
     "data": {
      "text/plain": [
       "1    168\n",
       "0    152\n",
       "Name: Free Transportation, dtype: int64"
      ]
     },
     "execution_count": 284,
     "metadata": {},
     "output_type": "execute_result"
    }
   ],
   "source": [
    "df['Free Transportation'].value_counts()"
   ]
  },
  {
   "cell_type": "code",
   "execution_count": 285,
   "id": "a681226c",
   "metadata": {},
   "outputs": [
    {
     "data": {
      "text/plain": [
       "0    168\n",
       "1    152\n",
       "Name: External Speaker, dtype: int64"
      ]
     },
     "execution_count": 285,
     "metadata": {},
     "output_type": "execute_result"
    }
   ],
   "source": [
    "df['External Speaker'].value_counts()"
   ]
  },
  {
   "cell_type": "code",
   "execution_count": 286,
   "id": "7d1a3839",
   "metadata": {},
   "outputs": [
    {
     "data": {
      "text/plain": [
       "1    163\n",
       "0    157\n",
       "Name: Church Venue, dtype: int64"
      ]
     },
     "execution_count": 286,
     "metadata": {},
     "output_type": "execute_result"
    }
   ],
   "source": [
    "df['Church Venue'].value_counts()"
   ]
  },
  {
   "cell_type": "code",
   "execution_count": 287,
   "id": "df8c0d18",
   "metadata": {},
   "outputs": [
    {
     "data": {
      "text/plain": [
       "0    166\n",
       "1    154\n",
       "Name: Outreach Program, dtype: int64"
      ]
     },
     "execution_count": 287,
     "metadata": {},
     "output_type": "execute_result"
    }
   ],
   "source": [
    "df['Outreach Program'].value_counts()"
   ]
  },
  {
   "cell_type": "code",
   "execution_count": 288,
   "id": "089db113",
   "metadata": {},
   "outputs": [
    {
     "data": {
      "text/plain": [
       "0    168\n",
       "1    152\n",
       "Name: Celebration, dtype: int64"
      ]
     },
     "execution_count": 288,
     "metadata": {},
     "output_type": "execute_result"
    }
   ],
   "source": [
    "df['Celebration'].value_counts()"
   ]
  },
  {
   "cell_type": "code",
   "execution_count": 289,
   "id": "64ee0af9",
   "metadata": {},
   "outputs": [
    {
     "data": {
      "text/plain": [
       "1    165\n",
       "0    155\n",
       "Name: Love Feast, dtype: int64"
      ]
     },
     "execution_count": 289,
     "metadata": {},
     "output_type": "execute_result"
    }
   ],
   "source": [
    "df['Love Feast'].value_counts()"
   ]
  },
  {
   "cell_type": "code",
   "execution_count": 290,
   "id": "44e8ac00",
   "metadata": {},
   "outputs": [
    {
     "data": {
      "text/plain": [
       "0    167\n",
       "1    153\n",
       "Name: Weather Condition, dtype: int64"
      ]
     },
     "execution_count": 290,
     "metadata": {},
     "output_type": "execute_result"
    }
   ],
   "source": [
    "df['Weather Condition'].value_counts()"
   ]
  },
  {
   "cell_type": "code",
   "execution_count": 291,
   "id": "56397b6b",
   "metadata": {},
   "outputs": [
    {
     "data": {
      "text/plain": [
       "1    162\n",
       "0    158\n",
       "Name: Attendance, dtype: int64"
      ]
     },
     "execution_count": 291,
     "metadata": {},
     "output_type": "execute_result"
    }
   ],
   "source": [
    "df['Attendance'].value_counts()"
   ]
  },
  {
   "cell_type": "code",
   "execution_count": 292,
   "id": "e6e28d6e",
   "metadata": {},
   "outputs": [
    {
     "data": {
      "text/plain": [
       "Index(['Gender', 'Weather Condition', 'Service Day', 'Service Time',\n",
       "       'Public Holiday', 'SMS Notification', 'Email Notification',\n",
       "       'SMS Reminder', 'Email Reminder', 'Free Transportation',\n",
       "       'External Speaker', 'Church Venue', 'Outreach Program', 'Celebration',\n",
       "       'Love Feast', 'Attendance'],\n",
       "      dtype='object')"
      ]
     },
     "execution_count": 292,
     "metadata": {},
     "output_type": "execute_result"
    }
   ],
   "source": [
    "df.columns"
   ]
  },
  {
   "cell_type": "code",
   "execution_count": 293,
   "id": "a618a8af",
   "metadata": {},
   "outputs": [
    {
     "name": "stdout",
     "output_type": "stream",
     "text": [
      "{'Gender': {'Female': 0, 'Male': 1}}\n"
     ]
    }
   ],
   "source": [
    "category_col =['Gender'] \n",
    "labelEncoder = preprocessing.LabelEncoder()\n",
    "  \n",
    "mapping_dict ={}\n",
    "for col in category_col:\n",
    "    df[col] = labelEncoder.fit_transform(df[col])\n",
    "  \n",
    "    le_name_mapping = dict(zip(labelEncoder.classes_,\n",
    "                        labelEncoder.transform(labelEncoder.classes_)))\n",
    "  \n",
    "    mapping_dict[col]= le_name_mapping\n",
    "print(mapping_dict)"
   ]
  },
  {
   "cell_type": "code",
   "execution_count": 294,
   "id": "fe1f0142",
   "metadata": {},
   "outputs": [
    {
     "data": {
      "text/plain": [
       "(320, 16)"
      ]
     },
     "execution_count": 294,
     "metadata": {},
     "output_type": "execute_result"
    }
   ],
   "source": [
    "df.shape"
   ]
  },
  {
   "cell_type": "code",
   "execution_count": 295,
   "id": "1dd1e44a",
   "metadata": {},
   "outputs": [],
   "source": [
    "from sklearn.model_selection import train_test_split\n",
    "from sklearn.linear_model import LogisticRegression\n",
    "from sklearn.metrics import accuracy_score\n",
    "import pickle\n",
    "  \n",
    "X = df.drop(\"Attendance\", axis=1)\n",
    "y = df[\"Attendance\"]"
   ]
  },
  {
   "cell_type": "code",
   "execution_count": 296,
   "id": "20ebe759",
   "metadata": {},
   "outputs": [
    {
     "data": {
      "text/plain": [
       "Index(['Gender', 'Weather Condition', 'Service Day', 'Service Time',\n",
       "       'Public Holiday', 'SMS Notification', 'Email Notification',\n",
       "       'SMS Reminder', 'Email Reminder', 'Free Transportation',\n",
       "       'External Speaker', 'Church Venue', 'Outreach Program', 'Celebration',\n",
       "       'Love Feast'],\n",
       "      dtype='object')"
      ]
     },
     "execution_count": 296,
     "metadata": {},
     "output_type": "execute_result"
    }
   ],
   "source": [
    "X.columns"
   ]
  },
  {
   "cell_type": "code",
   "execution_count": 297,
   "id": "4d625f11",
   "metadata": {},
   "outputs": [],
   "source": [
    "X_train, X_test, y_train, y_test = train_test_split(\n",
    "           X, Y, test_size = 0.3, random_state = 100)\n",
    "  \n",
    "model = LogisticRegression()\n",
    "  \n",
    "model.fit(X_train, y_train)\n",
    "y_pred = model.predict_proba(X_test)[:, 1]"
   ]
  },
  {
   "cell_type": "code",
   "execution_count": 298,
   "id": "575d887d",
   "metadata": {},
   "outputs": [],
   "source": [
    "pickle.dump(model, open('model.pkl','wb'))"
   ]
  },
  {
   "cell_type": "code",
   "execution_count": null,
   "id": "892bea80",
   "metadata": {},
   "outputs": [],
   "source": []
  }
 ],
 "metadata": {
  "kernelspec": {
   "display_name": "Python 3",
   "language": "python",
   "name": "python3"
  },
  "language_info": {
   "codemirror_mode": {
    "name": "ipython",
    "version": 3
   },
   "file_extension": ".py",
   "mimetype": "text/x-python",
   "name": "python",
   "nbconvert_exporter": "python",
   "pygments_lexer": "ipython3",
   "version": "3.8.8"
  }
 },
 "nbformat": 4,
 "nbformat_minor": 5
}
